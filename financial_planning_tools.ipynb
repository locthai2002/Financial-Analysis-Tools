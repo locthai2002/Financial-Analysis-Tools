{
 "cells": [
  {
   "cell_type": "markdown",
   "metadata": {},
   "source": [
    "# Financial Planning with APIs and Simulations\n",
    "\n",
    "In this Challenge, you’ll create two financial analysis tools by using a single Jupyter notebook:\n",
    "\n",
    "Part 1: A financial planner for emergencies. The members will be able to use this tool to visualize their current savings. The members can then determine if they have enough reserves for an emergency fund.\n",
    "\n",
    "Part 2: A financial planner for retirement. This tool will forecast the performance of their retirement portfolio in 30 years. To do this, the tool will make an Alpaca API call via the Alpaca SDK to get historical price data for use in Monte Carlo simulations.\n",
    "\n",
    "You’ll use the information from the Monte Carlo simulation to answer questions about the portfolio in your Jupyter notebook.\n",
    "\n"
   ]
  },
  {
   "cell_type": "code",
   "execution_count": 1,
   "metadata": {},
   "outputs": [],
   "source": [
    "# Import the required libraries and dependencies\n",
    "import os\n",
    "import requests\n",
    "import json\n",
    "import pandas as pd\n",
    "from dotenv import load_dotenv\n",
    "import alpaca_trade_api as tradeapi\n",
    "from MCForecastTools import MCSimulation\n",
    "\n",
    "%matplotlib inline"
   ]
  },
  {
   "cell_type": "code",
   "execution_count": 2,
   "metadata": {},
   "outputs": [
    {
     "data": {
      "text/plain": [
       "True"
      ]
     },
     "execution_count": 2,
     "metadata": {},
     "output_type": "execute_result"
    }
   ],
   "source": [
    "# Load the environment variables from the .env file\n",
    "#by calling the load_dotenv function\n",
    "load_dotenv()"
   ]
  },
  {
   "cell_type": "markdown",
   "metadata": {},
   "source": [
    "## Part 1: Create a Financial Planner for Emergencies"
   ]
  },
  {
   "cell_type": "markdown",
   "metadata": {},
   "source": [
    "### Evaluate the Cryptocurrency Wallet by Using the Requests Library\n",
    "\n",
    "In this section, you’ll determine the current value of a member’s cryptocurrency wallet. You’ll collect the current prices for the Bitcoin and Ethereum cryptocurrencies by using the Python Requests library. For the prototype, you’ll assume that the member holds the 1.2 Bitcoins (BTC) and 5.3 Ethereum coins (ETH). To do all this, complete the following steps:\n",
    "\n",
    "1. Create a variable named `monthly_income`, and set its value to `12000`.\n",
    "\n",
    "2. Use the Requests library to get the current price (in US dollars) of Bitcoin (BTC) and Ethereum (ETH) by using the API endpoints that the starter code supplies.\n",
    "\n",
    "3. Navigate the JSON response object to access the current price of each coin, and store each in a variable.\n",
    "\n",
    "    > **Hint** Note the specific identifier for each cryptocurrency in the API JSON response. The Bitcoin identifier is `1`, and the Ethereum identifier is `1027`.\n",
    "\n",
    "4. Calculate the value, in US dollars, of the current amount of each cryptocurrency and of the entire cryptocurrency wallet.\n",
    "\n"
   ]
  },
  {
   "cell_type": "code",
   "execution_count": 3,
   "metadata": {},
   "outputs": [],
   "source": [
    "# The current number of coins for each cryptocurrency asset held in the portfolio.\n",
    "btc_coins = 1.2\n",
    "eth_coins = 5.3"
   ]
  },
  {
   "cell_type": "markdown",
   "metadata": {},
   "source": [
    "#### Step 1: Create a variable named `monthly_income`, and set its value to `12000`."
   ]
  },
  {
   "cell_type": "code",
   "execution_count": 4,
   "metadata": {},
   "outputs": [],
   "source": [
    "# The monthly amount for the member's household income\n",
    "monthly_income = 12000\n"
   ]
  },
  {
   "cell_type": "markdown",
   "metadata": {},
   "source": [
    "#### Review the endpoint URLs for the API calls to Free Crypto API in order to get the current pricing information for both BTC and ETH."
   ]
  },
  {
   "cell_type": "code",
   "execution_count": 5,
   "metadata": {},
   "outputs": [],
   "source": [
    "# The Free Crypto API Call endpoint URLs for the held cryptocurrency assets\n",
    "btc_url = \"https://api.alternative.me/v2/ticker/Bitcoin/?convert=USD\"\n",
    "eth_url = \"https://api.alternative.me/v2/ticker/Ethereum/?convert=USD\""
   ]
  },
  {
   "cell_type": "markdown",
   "metadata": {},
   "source": [
    "#### Step 2. Use the Requests library to get the current price (in US dollars) of Bitcoin (BTC) and Ethereum (ETH) by using the API endpoints that the starter code supplied."
   ]
  },
  {
   "cell_type": "code",
   "execution_count": 6,
   "metadata": {},
   "outputs": [
    {
     "name": "stdout",
     "output_type": "stream",
     "text": [
      "{\n",
      "    \"data\": {\n",
      "        \"1\": {\n",
      "            \"circulating_supply\": 18940143,\n",
      "            \"id\": 1,\n",
      "            \"last_updated\": 1643168362,\n",
      "            \"max_supply\": 21000000,\n",
      "            \"name\": \"Bitcoin\",\n",
      "            \"quotes\": {\n",
      "                \"USD\": {\n",
      "                    \"market_cap\": 705138885622,\n",
      "                    \"percent_change_1h\": 0.820434032262596,\n",
      "                    \"percent_change_24h\": 2.35350978700028,\n",
      "                    \"percent_change_7d\": -12.0324240679633,\n",
      "                    \"percentage_change_1h\": 0.820434032262596,\n",
      "                    \"percentage_change_24h\": 2.35350978700028,\n",
      "                    \"percentage_change_7d\": -12.0324240679633,\n",
      "                    \"price\": 37294.0,\n",
      "                    \"volume_24h\": 46076724395\n",
      "                }\n",
      "            },\n",
      "            \"rank\": 1,\n",
      "            \"symbol\": \"BTC\",\n",
      "            \"total_supply\": 18940143,\n",
      "            \"website_slug\": \"bitcoin\"\n",
      "        }\n",
      "    },\n",
      "    \"metadata\": {\n",
      "        \"error\": null,\n",
      "        \"num_cryptocurrencies\": 3105,\n",
      "        \"timestamp\": 1643168362\n",
      "    }\n",
      "}\n"
     ]
    }
   ],
   "source": [
    "# Using the Python requests library, make an API call to access the current price of BTC\n",
    "btc_response = requests.get(btc_url).json()\n",
    "\n",
    "# Use the json.dumps function to review the response data from the API call\n",
    "# Use the indent and sort_keys parameters to make the response object readable\n",
    "print(json.dumps(btc_response, indent=4, sort_keys=True))\n"
   ]
  },
  {
   "cell_type": "code",
   "execution_count": 7,
   "metadata": {},
   "outputs": [
    {
     "name": "stdout",
     "output_type": "stream",
     "text": [
      "{\n",
      "    \"data\": {\n",
      "        \"1027\": {\n",
      "            \"circulating_supply\": 119314034,\n",
      "            \"id\": 1027,\n",
      "            \"last_updated\": 1643168316,\n",
      "            \"max_supply\": 0,\n",
      "            \"name\": \"Ethereum\",\n",
      "            \"quotes\": {\n",
      "                \"USD\": {\n",
      "                    \"market_cap\": 295040777451,\n",
      "                    \"percent_change_1h\": 0.603061320825165,\n",
      "                    \"percent_change_24h\": 2.21441618062019,\n",
      "                    \"percent_change_7d\": -21.8359621613002,\n",
      "                    \"percentage_change_1h\": 0.603061320825165,\n",
      "                    \"percentage_change_24h\": 2.21441618062019,\n",
      "                    \"percentage_change_7d\": -21.8359621613002,\n",
      "                    \"price\": 2475.03,\n",
      "                    \"volume_24h\": 15738780523\n",
      "                }\n",
      "            },\n",
      "            \"rank\": 2,\n",
      "            \"symbol\": \"ETH\",\n",
      "            \"total_supply\": 119314034,\n",
      "            \"website_slug\": \"ethereum\"\n",
      "        }\n",
      "    },\n",
      "    \"metadata\": {\n",
      "        \"error\": null,\n",
      "        \"num_cryptocurrencies\": 3105,\n",
      "        \"timestamp\": 1643168316\n",
      "    }\n",
      "}\n"
     ]
    }
   ],
   "source": [
    "# Using the Python requests library, make an API call to access the current price ETH\n",
    "eth_response = requests.get(eth_url).json()\n",
    "\n",
    "# Use the json.dumps function to review the response data from the API call\n",
    "# Use the indent and sort_keys parameters to make the response object readable\n",
    "print(json.dumps(eth_response, indent=4, sort_keys=True))\n"
   ]
  },
  {
   "cell_type": "markdown",
   "metadata": {},
   "source": [
    "#### Step 3: Navigate the JSON response object to access the current price of each coin, and store each in a variable."
   ]
  },
  {
   "cell_type": "code",
   "execution_count": 12,
   "metadata": {},
   "outputs": [
    {
     "name": "stdout",
     "output_type": "stream",
     "text": [
      "The current price of Bitcoin is $37294.0.\n"
     ]
    }
   ],
   "source": [
    "# Navigate the BTC response object to access the current price of BTC\n",
    "btc_price = btc_response['data']['1']['quotes']['USD']['price']\n",
    "\n",
    "# Print the current price of BTC\n",
    "print(f'The current price of Bitcoin is ${btc_price}.')\n"
   ]
  },
  {
   "cell_type": "code",
   "execution_count": 13,
   "metadata": {},
   "outputs": [
    {
     "name": "stdout",
     "output_type": "stream",
     "text": [
      "The current price of Ethereum is $2475.03.\n"
     ]
    }
   ],
   "source": [
    "# Navigate the BTC response object to access the current price of ETH\n",
    "eth_price = eth_response['data']['1027']['quotes']['USD']['price']\n",
    "\n",
    "# Print the current price of ETH\n",
    "print(f'The current price of Ethereum is ${eth_price}.')\n"
   ]
  },
  {
   "cell_type": "markdown",
   "metadata": {},
   "source": [
    "### Step 4: Calculate the value, in US dollars, of the current amount of each cryptocurrency and of the entire cryptocurrency wallet."
   ]
  },
  {
   "cell_type": "code",
   "execution_count": 15,
   "metadata": {},
   "outputs": [
    {
     "name": "stdout",
     "output_type": "stream",
     "text": [
      "The current value of your holding in BTC is $ 44752.80.\n"
     ]
    }
   ],
   "source": [
    "# Compute the current value of the BTC holding \n",
    "btc_value = btc_coins * btc_price\n",
    "\n",
    "# Print current value of your holding in BTC\n",
    "print(f'The current value of your holding in BTC is ${btc_value: .2f}.')\n"
   ]
  },
  {
   "cell_type": "code",
   "execution_count": 16,
   "metadata": {},
   "outputs": [
    {
     "name": "stdout",
     "output_type": "stream",
     "text": [
      "The current value of your holding in ETH is $ 13117.66.\n"
     ]
    }
   ],
   "source": [
    "# Compute the current value of the ETH holding \n",
    "eth_value = eth_coins * eth_price\n",
    "\n",
    "# Print current value of your holding in ETH\n",
    "print(f'The current value of your holding in ETH is ${eth_value: .2f}.')\n"
   ]
  },
  {
   "cell_type": "code",
   "execution_count": 18,
   "metadata": {},
   "outputs": [
    {
     "name": "stdout",
     "output_type": "stream",
     "text": [
      "The current cryptocurrency wallet balance is $ 57870.46.\n"
     ]
    }
   ],
   "source": [
    "# Compute the total value of the cryptocurrency wallet\n",
    "# Add the value of the BTC holding to the value of the ETH holding\n",
    "total_crypto_wallet = btc_value + eth_value\n",
    "\n",
    "# Print current cryptocurrency wallet balance\n",
    "print(f'The current cryptocurrency wallet balance is ${total_crypto_wallet: .2f}.')\n"
   ]
  },
  {
   "cell_type": "markdown",
   "metadata": {},
   "source": [
    "### Evaluate the Stock and Bond Holdings by Using the Alpaca SDK\n",
    "\n",
    "In this section, you’ll determine the current value of a member’s stock and bond holdings. You’ll make an API call to Alpaca via the Alpaca SDK to get the current closing prices of the SPDR S&P 500 ETF Trust (ticker: SPY) and of the iShares Core US Aggregate Bond ETF (ticker: AGG). For the prototype, assume that the member holds 110 shares of SPY, which represents the stock portion of their portfolio, and 200 shares of AGG, which represents the bond portion. To do all this, complete the following steps:\n",
    "\n",
    "1. In the `Starter_Code` folder, create an environment file (`.env`) to store the values of your Alpaca API key and Alpaca secret key.\n",
    "\n",
    "2. Set the variables for the Alpaca API and secret keys. Using the Alpaca SDK, create the Alpaca `tradeapi.REST` object. In this object, include the parameters for the Alpaca API key, the secret key, and the version number.\n",
    "\n",
    "3. Set the following parameters for the Alpaca API call:\n",
    "\n",
    "    - `tickers`: Use the tickers for the member’s stock and bond holdings.\n",
    "\n",
    "    - `timeframe`: Use a time frame of one day.\n",
    "\n",
    "    - `start_date` and `end_date`: Use the same date for these parameters, and format them with the date of the previous weekday (or `2020-08-07`). This is because you want the one closing price for the most-recent trading day.\n",
    "\n",
    "4. Get the current closing prices for `SPY` and `AGG` by using the Alpaca `get_barset` function. Format the response as a Pandas DataFrame by including the `df` property at the end of the `get_barset` function.\n",
    "\n",
    "5. Navigating the Alpaca response DataFrame, select the `SPY` and `AGG` closing prices, and store them as variables.\n",
    "\n",
    "6. Calculate the value, in US dollars, of the current amount of shares in each of the stock and bond portions of the portfolio, and print the results.\n"
   ]
  },
  {
   "cell_type": "markdown",
   "metadata": {},
   "source": [
    "#### Review the total number of shares held in both (SPY) and (AGG)."
   ]
  },
  {
   "cell_type": "code",
   "execution_count": 19,
   "metadata": {},
   "outputs": [],
   "source": [
    "# Current amount of shares held in both the stock (SPY) and bond (AGG) portion of the portfolio.\n",
    "spy_shares = 110\n",
    "agg_shares = 200\n"
   ]
  },
  {
   "cell_type": "markdown",
   "metadata": {},
   "source": [
    "#### Step 1: In the `Starter_Code` folder, create an environment file (`.env`) to store the values of your Alpaca API key and Alpaca secret key."
   ]
  },
  {
   "cell_type": "markdown",
   "metadata": {},
   "source": [
    "#### Step 2: Set the variables for the Alpaca API and secret keys. Using the Alpaca SDK, create the Alpaca `tradeapi.REST` object. In this object, include the parameters for the Alpaca API key, the secret key, and the version number."
   ]
  },
  {
   "cell_type": "code",
   "execution_count": 20,
   "metadata": {},
   "outputs": [
    {
     "data": {
      "text/plain": [
       "str"
      ]
     },
     "metadata": {},
     "output_type": "display_data"
    },
    {
     "data": {
      "text/plain": [
       "str"
      ]
     },
     "metadata": {},
     "output_type": "display_data"
    }
   ],
   "source": [
    "# Set the variables for the Alpaca API and secret keys\n",
    "alpaca_api_key = os.getenv(\"ALPACA_API_KEY\")\n",
    "alpaca_secret_key = os.getenv(\"ALPACA_SECRET_KEY\")\n",
    "\n",
    "# Create the Alpaca tradeapi.REST object\n",
    "alpaca = tradeapi.REST(\n",
    "        alpaca_api_key,\n",
    "        alpaca_secret_key,\n",
    "        api_version=\"v2\")\n",
    "\n",
    "display(type(alpaca_api_key))\n",
    "display(type(alpaca_secret_key))"
   ]
  },
  {
   "cell_type": "markdown",
   "metadata": {},
   "source": [
    "#### Step 3: Set the following parameters for the Alpaca API call:\n",
    "\n",
    "- `tickers`: Use the tickers for the member’s stock and bond holdings.\n",
    "\n",
    "- `timeframe`: Use a time frame of one day.\n",
    "\n",
    "- `start_date` and `end_date`: Use the same date for these parameters, and format them with the date of the previous weekday (or `2020-08-07`). This is because you want the one closing price for the most-recent trading day.\n"
   ]
  },
  {
   "cell_type": "code",
   "execution_count": 21,
   "metadata": {},
   "outputs": [],
   "source": [
    "# Set the tickers for both the bond and stock portion of the portfolio\n",
    "tickers = [\"SPY\", \"AGG\"]\n",
    "\n",
    "# Set timeframe to 1D \n",
    "timeframe = \"1D\"\n",
    "\n",
    "# Format current date as ISO format\n",
    "# Set both the start and end date at the date of your prior weekday \n",
    "# This will give you the closing price of the previous trading day\n",
    "# Alternatively you can use a start and end date of 2020-08-07\n",
    "start_date = pd.Timestamp(\"2020-08-07\", tz=\"America/New_York\").isoformat()\n",
    "end_date = pd.Timestamp(\"2020-08-07\", tz=\"America/New_York\").isoformat()\n"
   ]
  },
  {
   "cell_type": "markdown",
   "metadata": {},
   "source": [
    "#### Step 4: Get the current closing prices for `SPY` and `AGG` by using the Alpaca `get_barset` function. Format the response as a Pandas DataFrame by including the `df` property at the end of the `get_barset` function."
   ]
  },
  {
   "cell_type": "code",
   "execution_count": 22,
   "metadata": {},
   "outputs": [
    {
     "data": {
      "text/html": [
       "<div>\n",
       "<style scoped>\n",
       "    .dataframe tbody tr th:only-of-type {\n",
       "        vertical-align: middle;\n",
       "    }\n",
       "\n",
       "    .dataframe tbody tr th {\n",
       "        vertical-align: top;\n",
       "    }\n",
       "\n",
       "    .dataframe thead tr th {\n",
       "        text-align: left;\n",
       "    }\n",
       "\n",
       "    .dataframe thead tr:last-of-type th {\n",
       "        text-align: right;\n",
       "    }\n",
       "</style>\n",
       "<table border=\"1\" class=\"dataframe\">\n",
       "  <thead>\n",
       "    <tr>\n",
       "      <th></th>\n",
       "      <th colspan=\"5\" halign=\"left\">AGG</th>\n",
       "      <th colspan=\"5\" halign=\"left\">SPY</th>\n",
       "    </tr>\n",
       "    <tr>\n",
       "      <th></th>\n",
       "      <th>open</th>\n",
       "      <th>high</th>\n",
       "      <th>low</th>\n",
       "      <th>close</th>\n",
       "      <th>volume</th>\n",
       "      <th>open</th>\n",
       "      <th>high</th>\n",
       "      <th>low</th>\n",
       "      <th>close</th>\n",
       "      <th>volume</th>\n",
       "    </tr>\n",
       "    <tr>\n",
       "      <th>time</th>\n",
       "      <th></th>\n",
       "      <th></th>\n",
       "      <th></th>\n",
       "      <th></th>\n",
       "      <th></th>\n",
       "      <th></th>\n",
       "      <th></th>\n",
       "      <th></th>\n",
       "      <th></th>\n",
       "      <th></th>\n",
       "    </tr>\n",
       "  </thead>\n",
       "  <tbody>\n",
       "    <tr>\n",
       "      <th>2020-08-07 00:00:00-04:00</th>\n",
       "      <td>119.66</td>\n",
       "      <td>119.73</td>\n",
       "      <td>119.395</td>\n",
       "      <td>119.445</td>\n",
       "      <td>8830420</td>\n",
       "      <td>333.28</td>\n",
       "      <td>334.88</td>\n",
       "      <td>332.3</td>\n",
       "      <td>334.55</td>\n",
       "      <td>98710236</td>\n",
       "    </tr>\n",
       "  </tbody>\n",
       "</table>\n",
       "</div>"
      ],
      "text/plain": [
       "                              AGG                                        SPY  \\\n",
       "                             open    high      low    close   volume    open   \n",
       "time                                                                           \n",
       "2020-08-07 00:00:00-04:00  119.66  119.73  119.395  119.445  8830420  333.28   \n",
       "\n",
       "                                                            \n",
       "                             high    low   close    volume  \n",
       "time                                                        \n",
       "2020-08-07 00:00:00-04:00  334.88  332.3  334.55  98710236  "
      ]
     },
     "execution_count": 22,
     "metadata": {},
     "output_type": "execute_result"
    }
   ],
   "source": [
    "# Use the Alpaca get_barset function to get current closing prices the portfolio\n",
    "# Be sure to set the `df` property after the function to format the response object as a DataFrame\n",
    "closing_prices_df = alpaca.get_barset(\n",
    "                tickers,\n",
    "                timeframe,\n",
    "                start = start_date,\n",
    "                end = end_date).df\n",
    "# Review the first 5 rows of the Alpaca DataFrame\n",
    "closing_prices_df.head()\n"
   ]
  },
  {
   "cell_type": "markdown",
   "metadata": {},
   "source": [
    "#### Step 5: Navigating the Alpaca response DataFrame, select the `SPY` and `AGG` closing prices, and store them as variables."
   ]
  },
  {
   "cell_type": "code",
   "execution_count": 23,
   "metadata": {},
   "outputs": [
    {
     "name": "stdout",
     "output_type": "stream",
     "text": [
      "119.445\n"
     ]
    }
   ],
   "source": [
    "# Access the closing price for AGG from the Alpaca DataFrame\n",
    "# Converting the value to a floating point number\n",
    "agg_close_price = float(closing_prices_df['AGG']['close'])\n",
    "\n",
    "# Print the AGG closing price\n",
    "print(agg_close_price)\n"
   ]
  },
  {
   "cell_type": "code",
   "execution_count": 24,
   "metadata": {},
   "outputs": [
    {
     "name": "stdout",
     "output_type": "stream",
     "text": [
      "334.55\n"
     ]
    }
   ],
   "source": [
    "# Access the closing price for SPY from the Alpaca DataFrame\n",
    "# Converting the value to a floating point number\n",
    "spy_close_price = float(closing_prices_df['SPY']['close'])\n",
    "\n",
    "# Print the SPY closing price\n",
    "print(spy_close_price)\n"
   ]
  },
  {
   "cell_type": "markdown",
   "metadata": {},
   "source": [
    "#### Step 6: Calculate the value, in US dollars, of the current amount of shares in each of the stock and bond portions of the portfolio, and print the results."
   ]
  },
  {
   "cell_type": "code",
   "execution_count": 25,
   "metadata": {},
   "outputs": [
    {
     "name": "stdout",
     "output_type": "stream",
     "text": [
      "The current value of the bond portfolio is $ 23889.00\n"
     ]
    }
   ],
   "source": [
    "# Calculate the current value of the bond portion of the portfolio\n",
    "agg_value = agg_close_price * agg_shares\n",
    "\n",
    "# Print the current value of the bond portfolio\n",
    "print(f'The current value of the bond portfolio is ${agg_value: .2f}')\n"
   ]
  },
  {
   "cell_type": "code",
   "execution_count": 26,
   "metadata": {},
   "outputs": [
    {
     "name": "stdout",
     "output_type": "stream",
     "text": [
      "The current value of the stock portfolio is $ 36800.50\n"
     ]
    }
   ],
   "source": [
    "# Calculate the current value of the stock portion of the portfolio\n",
    "spy_value = spy_close_price * spy_shares\n",
    "\n",
    "# Print the current value of the stock portfolio\n",
    "print(f'The current value of the stock portfolio is ${spy_value: .2f}')\n"
   ]
  },
  {
   "cell_type": "code",
   "execution_count": 27,
   "metadata": {},
   "outputs": [
    {
     "name": "stdout",
     "output_type": "stream",
     "text": [
      "The current balance of the stock and bond portion of the portfolio is $ 60689.50\n"
     ]
    }
   ],
   "source": [
    "# Calculate the total value of the stock and bond portion of the portfolio\n",
    "total_stocks_bonds = agg_value + spy_value\n",
    "\n",
    "# Print the current balance of the stock and bond portion of the portfolio\n",
    "print(f'The current balance of the stock and bond portion of the portfolio is ${total_stocks_bonds: .2f}')\n"
   ]
  },
  {
   "cell_type": "code",
   "execution_count": 29,
   "metadata": {},
   "outputs": [
    {
     "name": "stdout",
     "output_type": "stream",
     "text": [
      "The current balance of current cryptocurrency wallet and stock and bond portfolio is $ 118559.96\n"
     ]
    }
   ],
   "source": [
    "# Calculate the total value of the member's entire savings portfolio\n",
    "# Add the value of the cryptocurrency walled to the value of the total stocks and bonds\n",
    "total_portfolio = total_stocks_bonds + total_crypto_wallet\n",
    "\n",
    "# Print current cryptocurrency wallet balance\n",
    "print(f'The current balance of current cryptocurrency wallet and stock and bond portfolio is ${total_portfolio: .2f}')\n"
   ]
  },
  {
   "cell_type": "markdown",
   "metadata": {},
   "source": [
    "### Evaluate the Emergency Fund\n",
    "\n",
    "In this section, you’ll use the valuations for the cryptocurrency wallet and for the stock and bond portions of the portfolio to determine if the credit union member has enough savings to build an emergency fund into their financial plan. To do this, complete the following steps:\n",
    "\n",
    "1. Create a Python list named `savings_data` that has two elements. The first element contains the total value of the cryptocurrency wallet. The second element contains the total value of the stock and bond portions of the portfolio.\n",
    "\n",
    "2. Use the `savings_data` list to create a Pandas DataFrame named `savings_df`, and then display this DataFrame. The function to create the DataFrame should take the following three parameters:\n",
    "\n",
    "    - `savings_data`: Use the list that you just created.\n",
    "\n",
    "    - `columns`: Set this parameter equal to a Python list with a single value called `amount`.\n",
    "\n",
    "    - `index`: Set this parameter equal to a Python list with the values of `crypto` and `stock/bond`.\n",
    "\n",
    "3. Use the `savings_df` DataFrame to plot a pie chart that visualizes the composition of the member’s portfolio. The y-axis of the pie chart uses `amount`. Be sure to add a title.\n",
    "\n",
    "4. Using Python, determine if the current portfolio has enough to create an emergency fund as part of the member’s financial plan. Ideally, an emergency fund should equal to three times the member’s monthly income. To do this, implement the following steps:\n",
    "\n",
    "    1. Create a variable named `emergency_fund_value`, and set it equal to three times the value of the member’s `monthly_income` of $12000. (You set this earlier in Part 1).\n",
    "\n",
    "    2. Create a series of three if statements to determine if the member’s total portfolio is large enough to fund the emergency portfolio:\n",
    "\n",
    "        1. If the total portfolio value is greater than the emergency fund value, display a message congratulating the member for having enough money in this fund.\n",
    "\n",
    "        2. Else if the total portfolio value is equal to the emergency fund value, display a message congratulating the member on reaching this important financial goal.\n",
    "\n",
    "        3. Else the total portfolio is less than the emergency fund value, so display a message showing how many dollars away the member is from reaching the goal. (Subtract the total portfolio value from the emergency fund value.)\n"
   ]
  },
  {
   "cell_type": "markdown",
   "metadata": {},
   "source": [
    "#### Step 1: Create a Python list named `savings_data` that has two elements. The first element contains the total value of the cryptocurrency wallet. The second element contains the total value of the stock and bond portions of the portfolio."
   ]
  },
  {
   "cell_type": "code",
   "execution_count": 31,
   "metadata": {},
   "outputs": [
    {
     "data": {
      "text/plain": [
       "[57870.458999999995, 60689.5]"
      ]
     },
     "execution_count": 31,
     "metadata": {},
     "output_type": "execute_result"
    }
   ],
   "source": [
    "# Consolidate financial assets data into a Python list\n",
    "savings_data = [total_crypto_wallet,total_stocks_bonds]\n",
    "\n",
    "# Review the Python list savings_data\n",
    "savings_data\n",
    "    "
   ]
  },
  {
   "cell_type": "markdown",
   "metadata": {
    "tags": []
   },
   "source": [
    "#### Step 2: Use the `savings_data` list to create a Pandas DataFrame named `savings_df`, and then display this DataFrame. The function to create the DataFrame should take the following three parameters:\n",
    "\n",
    "- `savings_data`: Use the list that you just created.\n",
    "\n",
    "- `columns`: Set this parameter equal to a Python list with a single value called `amount`.\n",
    "\n",
    "- `index`: Set this parameter equal to a Python list with the values of `crypto` and `stock/bond`.\n"
   ]
  },
  {
   "cell_type": "code",
   "execution_count": 33,
   "metadata": {},
   "outputs": [
    {
     "data": {
      "text/html": [
       "<div>\n",
       "<style scoped>\n",
       "    .dataframe tbody tr th:only-of-type {\n",
       "        vertical-align: middle;\n",
       "    }\n",
       "\n",
       "    .dataframe tbody tr th {\n",
       "        vertical-align: top;\n",
       "    }\n",
       "\n",
       "    .dataframe thead th {\n",
       "        text-align: right;\n",
       "    }\n",
       "</style>\n",
       "<table border=\"1\" class=\"dataframe\">\n",
       "  <thead>\n",
       "    <tr style=\"text-align: right;\">\n",
       "      <th></th>\n",
       "      <th>amount</th>\n",
       "    </tr>\n",
       "  </thead>\n",
       "  <tbody>\n",
       "    <tr>\n",
       "      <th>crypto</th>\n",
       "      <td>57870.459</td>\n",
       "    </tr>\n",
       "    <tr>\n",
       "      <th>stock/bond</th>\n",
       "      <td>60689.500</td>\n",
       "    </tr>\n",
       "  </tbody>\n",
       "</table>\n",
       "</div>"
      ],
      "text/plain": [
       "               amount\n",
       "crypto      57870.459\n",
       "stock/bond  60689.500"
      ]
     },
     "metadata": {},
     "output_type": "display_data"
    }
   ],
   "source": [
    "# Create a Pandas DataFrame called savings_df \n",
    "savings_df = pd.DataFrame(savings_data, columns=[\"amount\"], index=['crypto', 'stock/bond'])\n",
    "\n",
    "\n",
    "# Display the savings_df DataFrame\n",
    "display(savings_df)\n"
   ]
  },
  {
   "cell_type": "markdown",
   "metadata": {},
   "source": [
    "#### Step 3: Use the `savings_df` DataFrame to plot a pie chart that visualizes the composition of the member’s portfolio. The y-axis of the pie chart uses `amount`. Be sure to add a title."
   ]
  },
  {
   "cell_type": "code",
   "execution_count": 34,
   "metadata": {},
   "outputs": [
    {
     "data": {
      "text/plain": [
       "<AxesSubplot:title={'center':'Composition of Personal Savings'}, ylabel='amount'>"
      ]
     },
     "execution_count": 34,
     "metadata": {},
     "output_type": "execute_result"
    },
    {
     "data": {
      "image/png": "[encoded data removed]",
      "text/plain": [
       "<Figure size 432x288 with 1 Axes>"
      ]
     },
     "metadata": {},
     "output_type": "display_data"
    }
   ],
   "source": [
    "# Plot the total value of the member's portfolio (crypto and stock/bond) in a pie chart\n",
    "savings_df.plot.pie(y=\"amount\", title=\"Composition of Personal Savings\")\n",
    "\n"
   ]
  },
  {
   "cell_type": "markdown",
   "metadata": {},
   "source": [
    "#### Step 4: Using Python, determine if the current portfolio has enough to create an emergency fund as part of the member’s financial plan. Ideally, an emergency fund should equal to three times the member’s monthly income. To do this, implement the following steps:\n",
    "\n",
    "Step 1. Create a variable named `emergency_fund_value`, and set it equal to three times the value of the member’s `monthly_income` of 12000. (You set this earlier in Part 1).\n",
    "\n",
    "Step 2. Create a series of three if statements to determine if the member’s total portfolio is large enough to fund the emergency portfolio:\n",
    "\n",
    "* If the total portfolio value is greater than the emergency fund value, display a message congratulating the member for having enough money in this fund.\n",
    "\n",
    "* Else if the total portfolio value is equal to the emergency fund value, display a message congratulating the member on reaching this important financial goal.\n",
    "\n",
    "* Else the total portfolio is less than the emergency fund value, so display a message showing how many dollars away the member is from reaching the goal. (Subtract the total portfolio value from the emergency fund value.)\n"
   ]
  },
  {
   "cell_type": "markdown",
   "metadata": {},
   "source": [
    "##### Step 4-1: Create a variable named `emergency_fund_value`, and set it equal to three times the value of the member’s `monthly_income` of 12000. (You set this earlier in Part 1)."
   ]
  },
  {
   "cell_type": "code",
   "execution_count": 44,
   "metadata": {},
   "outputs": [],
   "source": [
    "# Create a variable named emergency_fund_value\n",
    "# Set ideal emergency fund\n",
    "emergency_fund_value = monthly_income * 3\n"
   ]
  },
  {
   "cell_type": "markdown",
   "metadata": {},
   "source": [
    "##### Step 4-2: Create a series of three if statements to determine if the member’s total portfolio is large enough to fund the emergency portfolio:\n",
    "\n",
    "* If the total portfolio value is greater than the emergency fund value, display a message congratulating the member for having enough money in this fund.\n",
    "\n",
    "* Else if the total portfolio value is equal to the emergency fund value, display a message congratulating the member on reaching this important financial goal.\n",
    "\n",
    "* Else the total portfolio is less than the emergency fund value, so display a message showing how many dollars away the member is from reaching the goal. (Subtract the total portfolio value from the emergency fund value.)"
   ]
  },
  {
   "cell_type": "code",
   "execution_count": 45,
   "metadata": {},
   "outputs": [
    {
     "name": "stdout",
     "output_type": "stream",
     "text": [
      "Congratulations! You have enough money in this fund.\n"
     ]
    }
   ],
   "source": [
    "# Evaluate the possibility of creating an emergency fund with 3 conditions:\n",
    "\n",
    "if emergency_fund_value < total_portfolio:\n",
    "    print(\"Congratulations! You have enough money in this fund.\")\n",
    "elif emergency_fund_value == total_portfolio:\n",
    "    print(\"Congratulations! You have reached this important financial goals.\")\n",
    "else:\n",
    "    print(f'You are {emergency_fund_value - total_portfolio: .2f} dollars away from reaching the goal.')\n",
    "          \n"
   ]
  },
  {
   "cell_type": "markdown",
   "metadata": {},
   "source": [
    "## Part 2: Create a Financial Planner for Retirement"
   ]
  },
  {
   "cell_type": "markdown",
   "metadata": {},
   "source": [
    "### Create the Monte Carlo Simulation\n",
    "\n",
    "In this section, you’ll use the MCForecastTools library to create a Monte Carlo simulation for the member’s savings portfolio. To do this, complete the following steps:\n",
    "\n",
    "1. Make an API call via the Alpaca SDK to get 3 years of historical closing prices for a traditional 60/40 portfolio split: 60% stocks (SPY) and 40% bonds (AGG).\n",
    "\n",
    "2. Run a Monte Carlo simulation of 500 samples and 30 years for the 60/40 portfolio, and then plot the results.The following image shows the overlay line plot resulting from a simulation with these characteristics. However, because a random number generator is used to run each live Monte Carlo simulation, your image will differ slightly from this exact image:\n",
    "\n",
    "![A screenshot depicts the resulting plot.](Images/5-4-monte-carlo-line-plot.png)\n",
    "\n",
    "3. Plot the probability distribution of the Monte Carlo simulation. Plot the probability distribution of the Monte Carlo simulation. The following image shows the histogram plot resulting from a simulation with these characteristics. However, because a random number generator is used to run each live Monte Carlo simulation, your image will differ slightly from this exact image:\n",
    "\n",
    "![A screenshot depicts the histogram plot.](Images/5-4-monte-carlo-histogram.png)\n",
    "\n",
    "4. Generate the summary statistics for the Monte Carlo simulation.\n",
    "\n"
   ]
  },
  {
   "cell_type": "markdown",
   "metadata": {},
   "source": [
    "#### Step 1: Make an API call via the Alpaca SDK to get 3 years of historical closing prices for a traditional 60/40 portfolio split: 60% stocks (SPY) and 40% bonds (AGG)."
   ]
  },
  {
   "cell_type": "code",
   "execution_count": 46,
   "metadata": {},
   "outputs": [],
   "source": [
    "# Set start and end dates of 3 years back from your current date\n",
    "# Alternatively, you can use an end date of 2020-08-07 and work 3 years back from that date \n",
    "start_date = pd.Timestamp(\"2019-01-24\", tz=\"America/New_York\").isoformat()\n",
    "end_date = pd.Timestamp(\"2022-01-24\", tz=\"America/New_York\").isoformat()\n",
    "\n",
    "\n",
    "# Set number of rows to 1000 to retrieve the maximum amount of rows\n",
    "limit_rows = 1000"
   ]
  },
  {
   "cell_type": "code",
   "execution_count": 47,
   "metadata": {},
   "outputs": [
    {
     "data": {
      "text/html": [
       "<div>\n",
       "<style scoped>\n",
       "    .dataframe tbody tr th:only-of-type {\n",
       "        vertical-align: middle;\n",
       "    }\n",
       "\n",
       "    .dataframe tbody tr th {\n",
       "        vertical-align: top;\n",
       "    }\n",
       "\n",
       "    .dataframe thead tr th {\n",
       "        text-align: left;\n",
       "    }\n",
       "\n",
       "    .dataframe thead tr:last-of-type th {\n",
       "        text-align: right;\n",
       "    }\n",
       "</style>\n",
       "<table border=\"1\" class=\"dataframe\">\n",
       "  <thead>\n",
       "    <tr>\n",
       "      <th></th>\n",
       "      <th colspan=\"5\" halign=\"left\">AGG</th>\n",
       "      <th colspan=\"5\" halign=\"left\">SPY</th>\n",
       "    </tr>\n",
       "    <tr>\n",
       "      <th></th>\n",
       "      <th>open</th>\n",
       "      <th>high</th>\n",
       "      <th>low</th>\n",
       "      <th>close</th>\n",
       "      <th>volume</th>\n",
       "      <th>open</th>\n",
       "      <th>high</th>\n",
       "      <th>low</th>\n",
       "      <th>close</th>\n",
       "      <th>volume</th>\n",
       "    </tr>\n",
       "    <tr>\n",
       "      <th>time</th>\n",
       "      <th></th>\n",
       "      <th></th>\n",
       "      <th></th>\n",
       "      <th></th>\n",
       "      <th></th>\n",
       "      <th></th>\n",
       "      <th></th>\n",
       "      <th></th>\n",
       "      <th></th>\n",
       "      <th></th>\n",
       "    </tr>\n",
       "  </thead>\n",
       "  <tbody>\n",
       "    <tr>\n",
       "      <th>2019-01-24 00:00:00-05:00</th>\n",
       "      <td>106.72</td>\n",
       "      <td>106.840</td>\n",
       "      <td>106.670</td>\n",
       "      <td>106.7300</td>\n",
       "      <td>6586980</td>\n",
       "      <td>263.21</td>\n",
       "      <td>264.20</td>\n",
       "      <td>262.0800</td>\n",
       "      <td>263.6900</td>\n",
       "      <td>48407752</td>\n",
       "    </tr>\n",
       "    <tr>\n",
       "      <th>2019-01-25 00:00:00-05:00</th>\n",
       "      <td>106.64</td>\n",
       "      <td>106.700</td>\n",
       "      <td>106.560</td>\n",
       "      <td>106.6750</td>\n",
       "      <td>3157633</td>\n",
       "      <td>265.61</td>\n",
       "      <td>266.70</td>\n",
       "      <td>263.6595</td>\n",
       "      <td>265.7000</td>\n",
       "      <td>78094541</td>\n",
       "    </tr>\n",
       "    <tr>\n",
       "      <th>2019-01-28 00:00:00-05:00</th>\n",
       "      <td>106.62</td>\n",
       "      <td>106.745</td>\n",
       "      <td>106.580</td>\n",
       "      <td>106.6550</td>\n",
       "      <td>6372589</td>\n",
       "      <td>263.39</td>\n",
       "      <td>263.82</td>\n",
       "      <td>261.7900</td>\n",
       "      <td>263.6350</td>\n",
       "      <td>75207990</td>\n",
       "    </tr>\n",
       "    <tr>\n",
       "      <th>2019-01-29 00:00:00-05:00</th>\n",
       "      <td>106.73</td>\n",
       "      <td>106.910</td>\n",
       "      <td>106.685</td>\n",
       "      <td>106.9063</td>\n",
       "      <td>5399892</td>\n",
       "      <td>263.92</td>\n",
       "      <td>264.55</td>\n",
       "      <td>262.4800</td>\n",
       "      <td>263.3100</td>\n",
       "      <td>54249161</td>\n",
       "    </tr>\n",
       "    <tr>\n",
       "      <th>2019-01-30 00:00:00-05:00</th>\n",
       "      <td>106.79</td>\n",
       "      <td>107.140</td>\n",
       "      <td>106.790</td>\n",
       "      <td>107.1400</td>\n",
       "      <td>4948983</td>\n",
       "      <td>265.10</td>\n",
       "      <td>268.52</td>\n",
       "      <td>264.2500</td>\n",
       "      <td>267.4625</td>\n",
       "      <td>75091893</td>\n",
       "    </tr>\n",
       "  </tbody>\n",
       "</table>\n",
       "</div>"
      ],
      "text/plain": [
       "                              AGG                                       \\\n",
       "                             open     high      low     close   volume   \n",
       "time                                                                     \n",
       "2019-01-24 00:00:00-05:00  106.72  106.840  106.670  106.7300  6586980   \n",
       "2019-01-25 00:00:00-05:00  106.64  106.700  106.560  106.6750  3157633   \n",
       "2019-01-28 00:00:00-05:00  106.62  106.745  106.580  106.6550  6372589   \n",
       "2019-01-29 00:00:00-05:00  106.73  106.910  106.685  106.9063  5399892   \n",
       "2019-01-30 00:00:00-05:00  106.79  107.140  106.790  107.1400  4948983   \n",
       "\n",
       "                              SPY                                        \n",
       "                             open    high       low     close    volume  \n",
       "time                                                                     \n",
       "2019-01-24 00:00:00-05:00  263.21  264.20  262.0800  263.6900  48407752  \n",
       "2019-01-25 00:00:00-05:00  265.61  266.70  263.6595  265.7000  78094541  \n",
       "2019-01-28 00:00:00-05:00  263.39  263.82  261.7900  263.6350  75207990  \n",
       "2019-01-29 00:00:00-05:00  263.92  264.55  262.4800  263.3100  54249161  \n",
       "2019-01-30 00:00:00-05:00  265.10  268.52  264.2500  267.4625  75091893  "
      ]
     },
     "metadata": {},
     "output_type": "display_data"
    },
    {
     "data": {
      "text/html": [
       "<div>\n",
       "<style scoped>\n",
       "    .dataframe tbody tr th:only-of-type {\n",
       "        vertical-align: middle;\n",
       "    }\n",
       "\n",
       "    .dataframe tbody tr th {\n",
       "        vertical-align: top;\n",
       "    }\n",
       "\n",
       "    .dataframe thead tr th {\n",
       "        text-align: left;\n",
       "    }\n",
       "\n",
       "    .dataframe thead tr:last-of-type th {\n",
       "        text-align: right;\n",
       "    }\n",
       "</style>\n",
       "<table border=\"1\" class=\"dataframe\">\n",
       "  <thead>\n",
       "    <tr>\n",
       "      <th></th>\n",
       "      <th colspan=\"5\" halign=\"left\">AGG</th>\n",
       "      <th colspan=\"5\" halign=\"left\">SPY</th>\n",
       "    </tr>\n",
       "    <tr>\n",
       "      <th></th>\n",
       "      <th>open</th>\n",
       "      <th>high</th>\n",
       "      <th>low</th>\n",
       "      <th>close</th>\n",
       "      <th>volume</th>\n",
       "      <th>open</th>\n",
       "      <th>high</th>\n",
       "      <th>low</th>\n",
       "      <th>close</th>\n",
       "      <th>volume</th>\n",
       "    </tr>\n",
       "    <tr>\n",
       "      <th>time</th>\n",
       "      <th></th>\n",
       "      <th></th>\n",
       "      <th></th>\n",
       "      <th></th>\n",
       "      <th></th>\n",
       "      <th></th>\n",
       "      <th></th>\n",
       "      <th></th>\n",
       "      <th></th>\n",
       "      <th></th>\n",
       "    </tr>\n",
       "  </thead>\n",
       "  <tbody>\n",
       "    <tr>\n",
       "      <th>2022-01-18 00:00:00-05:00</th>\n",
       "      <td>111.8100</td>\n",
       "      <td>111.86</td>\n",
       "      <td>111.47</td>\n",
       "      <td>111.49</td>\n",
       "      <td>7390142</td>\n",
       "      <td>459.73</td>\n",
       "      <td>459.9600</td>\n",
       "      <td>455.31</td>\n",
       "      <td>456.53</td>\n",
       "      <td>95565773</td>\n",
       "    </tr>\n",
       "    <tr>\n",
       "      <th>2022-01-19 00:00:00-05:00</th>\n",
       "      <td>111.7000</td>\n",
       "      <td>111.89</td>\n",
       "      <td>111.65</td>\n",
       "      <td>111.71</td>\n",
       "      <td>7641972</td>\n",
       "      <td>458.17</td>\n",
       "      <td>459.6124</td>\n",
       "      <td>451.46</td>\n",
       "      <td>451.79</td>\n",
       "      <td>95311817</td>\n",
       "    </tr>\n",
       "    <tr>\n",
       "      <th>2022-01-20 00:00:00-05:00</th>\n",
       "      <td>111.8400</td>\n",
       "      <td>111.90</td>\n",
       "      <td>111.75</td>\n",
       "      <td>111.79</td>\n",
       "      <td>6861797</td>\n",
       "      <td>453.75</td>\n",
       "      <td>458.7400</td>\n",
       "      <td>444.50</td>\n",
       "      <td>446.79</td>\n",
       "      <td>105009751</td>\n",
       "    </tr>\n",
       "    <tr>\n",
       "      <th>2022-01-21 00:00:00-05:00</th>\n",
       "      <td>112.1900</td>\n",
       "      <td>112.35</td>\n",
       "      <td>112.11</td>\n",
       "      <td>112.24</td>\n",
       "      <td>7789076</td>\n",
       "      <td>445.56</td>\n",
       "      <td>448.0600</td>\n",
       "      <td>437.97</td>\n",
       "      <td>438.11</td>\n",
       "      <td>174541931</td>\n",
       "    </tr>\n",
       "    <tr>\n",
       "      <th>2022-01-24 00:00:00-05:00</th>\n",
       "      <td>112.3814</td>\n",
       "      <td>112.42</td>\n",
       "      <td>112.10</td>\n",
       "      <td>112.12</td>\n",
       "      <td>10666672</td>\n",
       "      <td>432.03</td>\n",
       "      <td>440.3800</td>\n",
       "      <td>420.76</td>\n",
       "      <td>439.88</td>\n",
       "      <td>233026938</td>\n",
       "    </tr>\n",
       "  </tbody>\n",
       "</table>\n",
       "</div>"
      ],
      "text/plain": [
       "                                AGG                                       SPY  \\\n",
       "                               open    high     low   close    volume    open   \n",
       "time                                                                            \n",
       "2022-01-18 00:00:00-05:00  111.8100  111.86  111.47  111.49   7390142  459.73   \n",
       "2022-01-19 00:00:00-05:00  111.7000  111.89  111.65  111.71   7641972  458.17   \n",
       "2022-01-20 00:00:00-05:00  111.8400  111.90  111.75  111.79   6861797  453.75   \n",
       "2022-01-21 00:00:00-05:00  112.1900  112.35  112.11  112.24   7789076  445.56   \n",
       "2022-01-24 00:00:00-05:00  112.3814  112.42  112.10  112.12  10666672  432.03   \n",
       "\n",
       "                                                                \n",
       "                               high     low   close     volume  \n",
       "time                                                            \n",
       "2022-01-18 00:00:00-05:00  459.9600  455.31  456.53   95565773  \n",
       "2022-01-19 00:00:00-05:00  459.6124  451.46  451.79   95311817  \n",
       "2022-01-20 00:00:00-05:00  458.7400  444.50  446.79  105009751  \n",
       "2022-01-21 00:00:00-05:00  448.0600  437.97  438.11  174541931  \n",
       "2022-01-24 00:00:00-05:00  440.3800  420.76  439.88  233026938  "
      ]
     },
     "metadata": {},
     "output_type": "display_data"
    }
   ],
   "source": [
    "# Use the Alpaca get_barset function to make the API call to get the 3 years worth of pricing data\n",
    "# The tickers and timeframe parameters should have been set in Part 1 of this activity \n",
    "# The start and end dates should be updated with the information set above\n",
    "# Remember to add the df property to the end of the call so the response is returned as a DataFrame\n",
    "prices_df = alpaca.get_barset(\n",
    "    tickers,\n",
    "    timeframe,\n",
    "    start=start_date,\n",
    "    end=end_date,\n",
    "    limit=limit_rows\n",
    ").df\n",
    "\n",
    "\n",
    "\n",
    "# Display both the first and last five rows of the DataFrame\n",
    "display(prices_df.head())\n",
    "display(prices_df.tail())\n"
   ]
  },
  {
   "cell_type": "markdown",
   "metadata": {},
   "source": [
    "#### Step 2: Run a Monte Carlo simulation of 500 samples and 30 years for the 60/40 portfolio, and then plot the results."
   ]
  },
  {
   "cell_type": "code",
   "execution_count": 48,
   "metadata": {},
   "outputs": [
    {
     "data": {
      "text/html": [
       "<div>\n",
       "<style scoped>\n",
       "    .dataframe tbody tr th:only-of-type {\n",
       "        vertical-align: middle;\n",
       "    }\n",
       "\n",
       "    .dataframe tbody tr th {\n",
       "        vertical-align: top;\n",
       "    }\n",
       "\n",
       "    .dataframe thead tr th {\n",
       "        text-align: left;\n",
       "    }\n",
       "\n",
       "    .dataframe thead tr:last-of-type th {\n",
       "        text-align: right;\n",
       "    }\n",
       "</style>\n",
       "<table border=\"1\" class=\"dataframe\">\n",
       "  <thead>\n",
       "    <tr>\n",
       "      <th></th>\n",
       "      <th colspan=\"6\" halign=\"left\">AGG</th>\n",
       "      <th colspan=\"6\" halign=\"left\">SPY</th>\n",
       "    </tr>\n",
       "    <tr>\n",
       "      <th></th>\n",
       "      <th>open</th>\n",
       "      <th>high</th>\n",
       "      <th>low</th>\n",
       "      <th>close</th>\n",
       "      <th>volume</th>\n",
       "      <th>daily_return</th>\n",
       "      <th>open</th>\n",
       "      <th>high</th>\n",
       "      <th>low</th>\n",
       "      <th>close</th>\n",
       "      <th>volume</th>\n",
       "      <th>daily_return</th>\n",
       "    </tr>\n",
       "    <tr>\n",
       "      <th>time</th>\n",
       "      <th></th>\n",
       "      <th></th>\n",
       "      <th></th>\n",
       "      <th></th>\n",
       "      <th></th>\n",
       "      <th></th>\n",
       "      <th></th>\n",
       "      <th></th>\n",
       "      <th></th>\n",
       "      <th></th>\n",
       "      <th></th>\n",
       "      <th></th>\n",
       "    </tr>\n",
       "  </thead>\n",
       "  <tbody>\n",
       "    <tr>\n",
       "      <th>2019-01-24 00:00:00-05:00</th>\n",
       "      <td>106.72</td>\n",
       "      <td>106.840</td>\n",
       "      <td>106.670</td>\n",
       "      <td>106.7300</td>\n",
       "      <td>6586980</td>\n",
       "      <td>NaN</td>\n",
       "      <td>263.21</td>\n",
       "      <td>264.20</td>\n",
       "      <td>262.0800</td>\n",
       "      <td>263.6900</td>\n",
       "      <td>48407752</td>\n",
       "      <td>NaN</td>\n",
       "    </tr>\n",
       "    <tr>\n",
       "      <th>2019-01-25 00:00:00-05:00</th>\n",
       "      <td>106.64</td>\n",
       "      <td>106.700</td>\n",
       "      <td>106.560</td>\n",
       "      <td>106.6750</td>\n",
       "      <td>3157633</td>\n",
       "      <td>-0.000515</td>\n",
       "      <td>265.61</td>\n",
       "      <td>266.70</td>\n",
       "      <td>263.6595</td>\n",
       "      <td>265.7000</td>\n",
       "      <td>78094541</td>\n",
       "      <td>0.007623</td>\n",
       "    </tr>\n",
       "    <tr>\n",
       "      <th>2019-01-28 00:00:00-05:00</th>\n",
       "      <td>106.62</td>\n",
       "      <td>106.745</td>\n",
       "      <td>106.580</td>\n",
       "      <td>106.6550</td>\n",
       "      <td>6372589</td>\n",
       "      <td>-0.000187</td>\n",
       "      <td>263.39</td>\n",
       "      <td>263.82</td>\n",
       "      <td>261.7900</td>\n",
       "      <td>263.6350</td>\n",
       "      <td>75207990</td>\n",
       "      <td>-0.007772</td>\n",
       "    </tr>\n",
       "    <tr>\n",
       "      <th>2019-01-29 00:00:00-05:00</th>\n",
       "      <td>106.73</td>\n",
       "      <td>106.910</td>\n",
       "      <td>106.685</td>\n",
       "      <td>106.9063</td>\n",
       "      <td>5399892</td>\n",
       "      <td>0.002356</td>\n",
       "      <td>263.92</td>\n",
       "      <td>264.55</td>\n",
       "      <td>262.4800</td>\n",
       "      <td>263.3100</td>\n",
       "      <td>54249161</td>\n",
       "      <td>-0.001233</td>\n",
       "    </tr>\n",
       "    <tr>\n",
       "      <th>2019-01-30 00:00:00-05:00</th>\n",
       "      <td>106.79</td>\n",
       "      <td>107.140</td>\n",
       "      <td>106.790</td>\n",
       "      <td>107.1400</td>\n",
       "      <td>4948983</td>\n",
       "      <td>0.002186</td>\n",
       "      <td>265.10</td>\n",
       "      <td>268.52</td>\n",
       "      <td>264.2500</td>\n",
       "      <td>267.4625</td>\n",
       "      <td>75091893</td>\n",
       "      <td>0.015770</td>\n",
       "    </tr>\n",
       "  </tbody>\n",
       "</table>\n",
       "</div>"
      ],
      "text/plain": [
       "                              AGG                                       \\\n",
       "                             open     high      low     close   volume   \n",
       "time                                                                     \n",
       "2019-01-24 00:00:00-05:00  106.72  106.840  106.670  106.7300  6586980   \n",
       "2019-01-25 00:00:00-05:00  106.64  106.700  106.560  106.6750  3157633   \n",
       "2019-01-28 00:00:00-05:00  106.62  106.745  106.580  106.6550  6372589   \n",
       "2019-01-29 00:00:00-05:00  106.73  106.910  106.685  106.9063  5399892   \n",
       "2019-01-30 00:00:00-05:00  106.79  107.140  106.790  107.1400  4948983   \n",
       "\n",
       "                                           SPY                              \\\n",
       "                          daily_return    open    high       low     close   \n",
       "time                                                                         \n",
       "2019-01-24 00:00:00-05:00          NaN  263.21  264.20  262.0800  263.6900   \n",
       "2019-01-25 00:00:00-05:00    -0.000515  265.61  266.70  263.6595  265.7000   \n",
       "2019-01-28 00:00:00-05:00    -0.000187  263.39  263.82  261.7900  263.6350   \n",
       "2019-01-29 00:00:00-05:00     0.002356  263.92  264.55  262.4800  263.3100   \n",
       "2019-01-30 00:00:00-05:00     0.002186  265.10  268.52  264.2500  267.4625   \n",
       "\n",
       "                                                  \n",
       "                             volume daily_return  \n",
       "time                                              \n",
       "2019-01-24 00:00:00-05:00  48407752          NaN  \n",
       "2019-01-25 00:00:00-05:00  78094541     0.007623  \n",
       "2019-01-28 00:00:00-05:00  75207990    -0.007772  \n",
       "2019-01-29 00:00:00-05:00  54249161    -0.001233  \n",
       "2019-01-30 00:00:00-05:00  75091893     0.015770  "
      ]
     },
     "execution_count": 48,
     "metadata": {},
     "output_type": "execute_result"
    }
   ],
   "source": [
    "# Configure the Monte Carlo simulation to forecast 30 years cumulative returns\n",
    "# The weights should be split 40% to AGG and 60% to SPY.\n",
    "# Run 500 samples.\n",
    "MC_spy_agg = MCSimulation(\n",
    "    portfolio_data = prices_df,\n",
    "    weights = [.60,.40],\n",
    "    num_simulation = 500,\n",
    "    num_trading_days = 252*30\n",
    ")\n",
    "\n",
    "# Review the simulation input data\n",
    "MC_spy_agg.portfolio_data.head()\n"
   ]
  },
  {
   "cell_type": "code",
   "execution_count": 49,
   "metadata": {},
   "outputs": [
    {
     "name": "stdout",
     "output_type": "stream",
     "text": [
      "Running Monte Carlo simulation number 0.\n",
      "Running Monte Carlo simulation number 10.\n",
      "Running Monte Carlo simulation number 20.\n",
      "Running Monte Carlo simulation number 30.\n",
      "Running Monte Carlo simulation number 40.\n",
      "Running Monte Carlo simulation number 50.\n",
      "Running Monte Carlo simulation number 60.\n",
      "Running Monte Carlo simulation number 70.\n",
      "Running Monte Carlo simulation number 80.\n",
      "Running Monte Carlo simulation number 90.\n",
      "Running Monte Carlo simulation number 100.\n"
     ]
    },
    {
     "name": "stderr",
     "output_type": "stream",
     "text": [
      "C:\\Users\\locth\\OneDrive\\Documents\\Python\\Module_5\\Starter_Code\\MCForecastTools.py:117: PerformanceWarning: DataFrame is highly fragmented.  This is usually the result of calling `frame.insert` many times, which has poor performance.  Consider joining all columns at once using pd.concat(axis=1) instead.  To get a de-fragmented frame, use `newframe = frame.copy()`\n",
      "  portfolio_cumulative_returns[n] = (1 + sim_df.fillna(0)).cumprod()\n"
     ]
    },
    {
     "name": "stdout",
     "output_type": "stream",
     "text": [
      "Running Monte Carlo simulation number 110.\n",
      "Running Monte Carlo simulation number 120.\n",
      "Running Monte Carlo simulation number 130.\n",
      "Running Monte Carlo simulation number 140.\n",
      "Running Monte Carlo simulation number 150.\n",
      "Running Monte Carlo simulation number 160.\n",
      "Running Monte Carlo simulation number 170.\n",
      "Running Monte Carlo simulation number 180.\n",
      "Running Monte Carlo simulation number 190.\n",
      "Running Monte Carlo simulation number 200.\n",
      "Running Monte Carlo simulation number 210.\n",
      "Running Monte Carlo simulation number 220.\n",
      "Running Monte Carlo simulation number 230.\n",
      "Running Monte Carlo simulation number 240.\n",
      "Running Monte Carlo simulation number 250.\n",
      "Running Monte Carlo simulation number 260.\n",
      "Running Monte Carlo simulation number 270.\n",
      "Running Monte Carlo simulation number 280.\n",
      "Running Monte Carlo simulation number 290.\n",
      "Running Monte Carlo simulation number 300.\n",
      "Running Monte Carlo simulation number 310.\n",
      "Running Monte Carlo simulation number 320.\n",
      "Running Monte Carlo simulation number 330.\n",
      "Running Monte Carlo simulation number 340.\n",
      "Running Monte Carlo simulation number 350.\n",
      "Running Monte Carlo simulation number 360.\n",
      "Running Monte Carlo simulation number 370.\n",
      "Running Monte Carlo simulation number 380.\n",
      "Running Monte Carlo simulation number 390.\n",
      "Running Monte Carlo simulation number 400.\n",
      "Running Monte Carlo simulation number 410.\n",
      "Running Monte Carlo simulation number 420.\n",
      "Running Monte Carlo simulation number 430.\n",
      "Running Monte Carlo simulation number 440.\n",
      "Running Monte Carlo simulation number 450.\n",
      "Running Monte Carlo simulation number 460.\n",
      "Running Monte Carlo simulation number 470.\n",
      "Running Monte Carlo simulation number 480.\n",
      "Running Monte Carlo simulation number 490.\n"
     ]
    },
    {
     "data": {
      "text/html": [
       "<div>\n",
       "<style scoped>\n",
       "    .dataframe tbody tr th:only-of-type {\n",
       "        vertical-align: middle;\n",
       "    }\n",
       "\n",
       "    .dataframe tbody tr th {\n",
       "        vertical-align: top;\n",
       "    }\n",
       "\n",
       "    .dataframe thead th {\n",
       "        text-align: right;\n",
       "    }\n",
       "</style>\n",
       "<table border=\"1\" class=\"dataframe\">\n",
       "  <thead>\n",
       "    <tr style=\"text-align: right;\">\n",
       "      <th></th>\n",
       "      <th>0</th>\n",
       "      <th>1</th>\n",
       "      <th>2</th>\n",
       "      <th>3</th>\n",
       "      <th>4</th>\n",
       "      <th>5</th>\n",
       "      <th>6</th>\n",
       "      <th>7</th>\n",
       "      <th>8</th>\n",
       "      <th>9</th>\n",
       "      <th>...</th>\n",
       "      <th>490</th>\n",
       "      <th>491</th>\n",
       "      <th>492</th>\n",
       "      <th>493</th>\n",
       "      <th>494</th>\n",
       "      <th>495</th>\n",
       "      <th>496</th>\n",
       "      <th>497</th>\n",
       "      <th>498</th>\n",
       "      <th>499</th>\n",
       "    </tr>\n",
       "  </thead>\n",
       "  <tbody>\n",
       "    <tr>\n",
       "      <th>0</th>\n",
       "      <td>1.000000</td>\n",
       "      <td>1.000000</td>\n",
       "      <td>1.000000</td>\n",
       "      <td>1.000000</td>\n",
       "      <td>1.000000</td>\n",
       "      <td>1.000000</td>\n",
       "      <td>1.000000</td>\n",
       "      <td>1.000000</td>\n",
       "      <td>1.000000</td>\n",
       "      <td>1.000000</td>\n",
       "      <td>...</td>\n",
       "      <td>1.000000</td>\n",
       "      <td>1.000000</td>\n",
       "      <td>1.000000</td>\n",
       "      <td>1.000000</td>\n",
       "      <td>1.000000</td>\n",
       "      <td>1.000000</td>\n",
       "      <td>1.000000</td>\n",
       "      <td>1.000000</td>\n",
       "      <td>1.000000</td>\n",
       "      <td>1.000000</td>\n",
       "    </tr>\n",
       "    <tr>\n",
       "      <th>1</th>\n",
       "      <td>0.990354</td>\n",
       "      <td>1.011148</td>\n",
       "      <td>1.010780</td>\n",
       "      <td>1.006332</td>\n",
       "      <td>0.996528</td>\n",
       "      <td>0.998046</td>\n",
       "      <td>0.997933</td>\n",
       "      <td>0.996427</td>\n",
       "      <td>1.002942</td>\n",
       "      <td>1.003151</td>\n",
       "      <td>...</td>\n",
       "      <td>1.002385</td>\n",
       "      <td>0.994237</td>\n",
       "      <td>1.007568</td>\n",
       "      <td>1.001391</td>\n",
       "      <td>0.994445</td>\n",
       "      <td>1.000676</td>\n",
       "      <td>0.997219</td>\n",
       "      <td>1.003397</td>\n",
       "      <td>1.001622</td>\n",
       "      <td>1.000377</td>\n",
       "    </tr>\n",
       "    <tr>\n",
       "      <th>2</th>\n",
       "      <td>0.998467</td>\n",
       "      <td>1.008649</td>\n",
       "      <td>1.005133</td>\n",
       "      <td>1.008854</td>\n",
       "      <td>0.999248</td>\n",
       "      <td>1.006377</td>\n",
       "      <td>1.005299</td>\n",
       "      <td>0.997784</td>\n",
       "      <td>1.013178</td>\n",
       "      <td>1.006359</td>\n",
       "      <td>...</td>\n",
       "      <td>1.005065</td>\n",
       "      <td>1.001025</td>\n",
       "      <td>1.013578</td>\n",
       "      <td>1.011329</td>\n",
       "      <td>0.999721</td>\n",
       "      <td>0.990816</td>\n",
       "      <td>0.990903</td>\n",
       "      <td>1.002104</td>\n",
       "      <td>0.992503</td>\n",
       "      <td>1.001750</td>\n",
       "    </tr>\n",
       "    <tr>\n",
       "      <th>3</th>\n",
       "      <td>0.992563</td>\n",
       "      <td>0.999680</td>\n",
       "      <td>1.005297</td>\n",
       "      <td>1.013285</td>\n",
       "      <td>0.991516</td>\n",
       "      <td>0.994254</td>\n",
       "      <td>1.005075</td>\n",
       "      <td>0.987888</td>\n",
       "      <td>1.022860</td>\n",
       "      <td>1.001549</td>\n",
       "      <td>...</td>\n",
       "      <td>1.008825</td>\n",
       "      <td>0.997789</td>\n",
       "      <td>1.011126</td>\n",
       "      <td>1.010463</td>\n",
       "      <td>1.007800</td>\n",
       "      <td>0.987765</td>\n",
       "      <td>0.994746</td>\n",
       "      <td>1.013844</td>\n",
       "      <td>0.987191</td>\n",
       "      <td>1.001104</td>\n",
       "    </tr>\n",
       "    <tr>\n",
       "      <th>4</th>\n",
       "      <td>0.992489</td>\n",
       "      <td>0.994075</td>\n",
       "      <td>1.009180</td>\n",
       "      <td>1.012161</td>\n",
       "      <td>0.994669</td>\n",
       "      <td>0.984373</td>\n",
       "      <td>1.010344</td>\n",
       "      <td>0.985024</td>\n",
       "      <td>1.034662</td>\n",
       "      <td>1.000853</td>\n",
       "      <td>...</td>\n",
       "      <td>1.009545</td>\n",
       "      <td>1.001793</td>\n",
       "      <td>1.015872</td>\n",
       "      <td>1.006151</td>\n",
       "      <td>1.013144</td>\n",
       "      <td>0.986723</td>\n",
       "      <td>0.982320</td>\n",
       "      <td>1.011267</td>\n",
       "      <td>0.992921</td>\n",
       "      <td>1.003114</td>\n",
       "    </tr>\n",
       "    <tr>\n",
       "      <th>...</th>\n",
       "      <td>...</td>\n",
       "      <td>...</td>\n",
       "      <td>...</td>\n",
       "      <td>...</td>\n",
       "      <td>...</td>\n",
       "      <td>...</td>\n",
       "      <td>...</td>\n",
       "      <td>...</td>\n",
       "      <td>...</td>\n",
       "      <td>...</td>\n",
       "      <td>...</td>\n",
       "      <td>...</td>\n",
       "      <td>...</td>\n",
       "      <td>...</td>\n",
       "      <td>...</td>\n",
       "      <td>...</td>\n",
       "      <td>...</td>\n",
       "      <td>...</td>\n",
       "      <td>...</td>\n",
       "      <td>...</td>\n",
       "      <td>...</td>\n",
       "    </tr>\n",
       "    <tr>\n",
       "      <th>7556</th>\n",
       "      <td>17.285091</td>\n",
       "      <td>12.865330</td>\n",
       "      <td>10.370055</td>\n",
       "      <td>13.563656</td>\n",
       "      <td>12.652966</td>\n",
       "      <td>6.001702</td>\n",
       "      <td>8.018373</td>\n",
       "      <td>16.384468</td>\n",
       "      <td>7.055659</td>\n",
       "      <td>6.684905</td>\n",
       "      <td>...</td>\n",
       "      <td>11.938992</td>\n",
       "      <td>9.869324</td>\n",
       "      <td>26.342787</td>\n",
       "      <td>8.814599</td>\n",
       "      <td>39.928108</td>\n",
       "      <td>11.689472</td>\n",
       "      <td>6.088084</td>\n",
       "      <td>7.680978</td>\n",
       "      <td>14.921637</td>\n",
       "      <td>7.742955</td>\n",
       "    </tr>\n",
       "    <tr>\n",
       "      <th>7557</th>\n",
       "      <td>17.458977</td>\n",
       "      <td>12.784049</td>\n",
       "      <td>10.296883</td>\n",
       "      <td>13.537610</td>\n",
       "      <td>12.489080</td>\n",
       "      <td>5.992526</td>\n",
       "      <td>7.975234</td>\n",
       "      <td>16.307304</td>\n",
       "      <td>7.055351</td>\n",
       "      <td>6.699279</td>\n",
       "      <td>...</td>\n",
       "      <td>12.003252</td>\n",
       "      <td>9.797792</td>\n",
       "      <td>26.399390</td>\n",
       "      <td>8.902304</td>\n",
       "      <td>39.873322</td>\n",
       "      <td>11.627079</td>\n",
       "      <td>6.136951</td>\n",
       "      <td>7.711954</td>\n",
       "      <td>14.787801</td>\n",
       "      <td>7.722516</td>\n",
       "    </tr>\n",
       "    <tr>\n",
       "      <th>7558</th>\n",
       "      <td>17.470417</td>\n",
       "      <td>12.893330</td>\n",
       "      <td>10.240506</td>\n",
       "      <td>13.479305</td>\n",
       "      <td>12.436449</td>\n",
       "      <td>6.057581</td>\n",
       "      <td>8.085443</td>\n",
       "      <td>16.183765</td>\n",
       "      <td>7.076446</td>\n",
       "      <td>6.722941</td>\n",
       "      <td>...</td>\n",
       "      <td>11.968332</td>\n",
       "      <td>9.802970</td>\n",
       "      <td>26.528225</td>\n",
       "      <td>8.881051</td>\n",
       "      <td>39.658288</td>\n",
       "      <td>11.648308</td>\n",
       "      <td>6.154436</td>\n",
       "      <td>7.685650</td>\n",
       "      <td>14.727747</td>\n",
       "      <td>7.777367</td>\n",
       "    </tr>\n",
       "    <tr>\n",
       "      <th>7559</th>\n",
       "      <td>17.356724</td>\n",
       "      <td>12.856469</td>\n",
       "      <td>10.153573</td>\n",
       "      <td>13.483262</td>\n",
       "      <td>12.413570</td>\n",
       "      <td>6.088516</td>\n",
       "      <td>8.115886</td>\n",
       "      <td>16.183275</td>\n",
       "      <td>7.096529</td>\n",
       "      <td>6.654500</td>\n",
       "      <td>...</td>\n",
       "      <td>11.953427</td>\n",
       "      <td>9.883481</td>\n",
       "      <td>26.704583</td>\n",
       "      <td>8.846628</td>\n",
       "      <td>39.536957</td>\n",
       "      <td>11.605091</td>\n",
       "      <td>6.194742</td>\n",
       "      <td>7.704622</td>\n",
       "      <td>14.784744</td>\n",
       "      <td>7.899556</td>\n",
       "    </tr>\n",
       "    <tr>\n",
       "      <th>7560</th>\n",
       "      <td>17.367224</td>\n",
       "      <td>13.023724</td>\n",
       "      <td>10.069264</td>\n",
       "      <td>13.519023</td>\n",
       "      <td>12.475649</td>\n",
       "      <td>6.082199</td>\n",
       "      <td>8.068599</td>\n",
       "      <td>16.157423</td>\n",
       "      <td>7.091714</td>\n",
       "      <td>6.666343</td>\n",
       "      <td>...</td>\n",
       "      <td>11.906491</td>\n",
       "      <td>9.875526</td>\n",
       "      <td>26.597480</td>\n",
       "      <td>8.866808</td>\n",
       "      <td>39.602554</td>\n",
       "      <td>11.590121</td>\n",
       "      <td>6.186792</td>\n",
       "      <td>7.778017</td>\n",
       "      <td>14.540453</td>\n",
       "      <td>7.948498</td>\n",
       "    </tr>\n",
       "  </tbody>\n",
       "</table>\n",
       "<p>7561 rows × 500 columns</p>\n",
       "</div>"
      ],
      "text/plain": [
       "            0          1          2          3          4         5    \\\n",
       "0      1.000000   1.000000   1.000000   1.000000   1.000000  1.000000   \n",
       "1      0.990354   1.011148   1.010780   1.006332   0.996528  0.998046   \n",
       "2      0.998467   1.008649   1.005133   1.008854   0.999248  1.006377   \n",
       "3      0.992563   0.999680   1.005297   1.013285   0.991516  0.994254   \n",
       "4      0.992489   0.994075   1.009180   1.012161   0.994669  0.984373   \n",
       "...         ...        ...        ...        ...        ...       ...   \n",
       "7556  17.285091  12.865330  10.370055  13.563656  12.652966  6.001702   \n",
       "7557  17.458977  12.784049  10.296883  13.537610  12.489080  5.992526   \n",
       "7558  17.470417  12.893330  10.240506  13.479305  12.436449  6.057581   \n",
       "7559  17.356724  12.856469  10.153573  13.483262  12.413570  6.088516   \n",
       "7560  17.367224  13.023724  10.069264  13.519023  12.475649  6.082199   \n",
       "\n",
       "           6          7         8         9    ...        490       491  \\\n",
       "0     1.000000   1.000000  1.000000  1.000000  ...   1.000000  1.000000   \n",
       "1     0.997933   0.996427  1.002942  1.003151  ...   1.002385  0.994237   \n",
       "2     1.005299   0.997784  1.013178  1.006359  ...   1.005065  1.001025   \n",
       "3     1.005075   0.987888  1.022860  1.001549  ...   1.008825  0.997789   \n",
       "4     1.010344   0.985024  1.034662  1.000853  ...   1.009545  1.001793   \n",
       "...        ...        ...       ...       ...  ...        ...       ...   \n",
       "7556  8.018373  16.384468  7.055659  6.684905  ...  11.938992  9.869324   \n",
       "7557  7.975234  16.307304  7.055351  6.699279  ...  12.003252  9.797792   \n",
       "7558  8.085443  16.183765  7.076446  6.722941  ...  11.968332  9.802970   \n",
       "7559  8.115886  16.183275  7.096529  6.654500  ...  11.953427  9.883481   \n",
       "7560  8.068599  16.157423  7.091714  6.666343  ...  11.906491  9.875526   \n",
       "\n",
       "            492       493        494        495       496       497  \\\n",
       "0      1.000000  1.000000   1.000000   1.000000  1.000000  1.000000   \n",
       "1      1.007568  1.001391   0.994445   1.000676  0.997219  1.003397   \n",
       "2      1.013578  1.011329   0.999721   0.990816  0.990903  1.002104   \n",
       "3      1.011126  1.010463   1.007800   0.987765  0.994746  1.013844   \n",
       "4      1.015872  1.006151   1.013144   0.986723  0.982320  1.011267   \n",
       "...         ...       ...        ...        ...       ...       ...   \n",
       "7556  26.342787  8.814599  39.928108  11.689472  6.088084  7.680978   \n",
       "7557  26.399390  8.902304  39.873322  11.627079  6.136951  7.711954   \n",
       "7558  26.528225  8.881051  39.658288  11.648308  6.154436  7.685650   \n",
       "7559  26.704583  8.846628  39.536957  11.605091  6.194742  7.704622   \n",
       "7560  26.597480  8.866808  39.602554  11.590121  6.186792  7.778017   \n",
       "\n",
       "            498       499  \n",
       "0      1.000000  1.000000  \n",
       "1      1.001622  1.000377  \n",
       "2      0.992503  1.001750  \n",
       "3      0.987191  1.001104  \n",
       "4      0.992921  1.003114  \n",
       "...         ...       ...  \n",
       "7556  14.921637  7.742955  \n",
       "7557  14.787801  7.722516  \n",
       "7558  14.727747  7.777367  \n",
       "7559  14.784744  7.899556  \n",
       "7560  14.540453  7.948498  \n",
       "\n",
       "[7561 rows x 500 columns]"
      ]
     },
     "execution_count": 49,
     "metadata": {},
     "output_type": "execute_result"
    }
   ],
   "source": [
    "# Run the Monte Carlo simulation to forecast 30 years cumulative returns\n",
    "# YOUR CODE HERE\n",
    "MC_spy_agg.calc_cumulative_return()"
   ]
  },
  {
   "cell_type": "code",
   "execution_count": 50,
   "metadata": {},
   "outputs": [
    {
     "data": {
      "image/png": "[encoded data removed]",
      "text/plain": [
       "<Figure size 432x288 with 1 Axes>"
      ]
     },
     "metadata": {
      "needs_background": "light"
     },
     "output_type": "display_data"
    }
   ],
   "source": [
    "# Visualize the 30-year Monte Carlo simulation by creating an\n",
    "# overlay line plot\n",
    "line_plot = MC_spy_agg.plot_simulation()\n"
   ]
  },
  {
   "cell_type": "markdown",
   "metadata": {},
   "source": [
    "#### Step 3: Plot the probability distribution of the Monte Carlo simulation."
   ]
  },
  {
   "cell_type": "code",
   "execution_count": 51,
   "metadata": {},
   "outputs": [
    {
     "data": {
      "image/png": "[encoded data removed]",
      "text/plain": [
       "<Figure size 432x288 with 1 Axes>"
      ]
     },
     "metadata": {
      "needs_background": "light"
     },
     "output_type": "display_data"
    }
   ],
   "source": [
    "# Visualize the probability distribution of the 30-year Monte Carlo simulation \n",
    "# by plotting a histogram\n",
    "probability_dist = MC_spy_agg.plot_distribution()\n"
   ]
  },
  {
   "cell_type": "markdown",
   "metadata": {},
   "source": [
    "#### Step 4: Generate the summary statistics for the Monte Carlo simulation."
   ]
  },
  {
   "cell_type": "code",
   "execution_count": 52,
   "metadata": {},
   "outputs": [
    {
     "name": "stdout",
     "output_type": "stream",
     "text": [
      "count           500.000000\n",
      "mean             14.374432\n",
      "std               8.180135\n",
      "min               2.204080\n",
      "25%               8.928574\n",
      "50%              12.419807\n",
      "75%              17.377252\n",
      "max              65.066531\n",
      "95% CI Lower      4.344190\n",
      "95% CI Upper     39.465901\n",
      "Name: 7560, dtype: float64\n"
     ]
    }
   ],
   "source": [
    "# Generate summary statistics from the 30-year Monte Carlo simulation results\n",
    "# Save the results as a variable\n",
    "summary_table = MC_spy_agg.summarize_cumulative_return()\n",
    "\n",
    "\n",
    "# Review the 30-year Monte Carlo summary statistics\n",
    "print(summary_table)"
   ]
  },
  {
   "cell_type": "markdown",
   "metadata": {},
   "source": [
    "### Analyze the Retirement Portfolio Forecasts\n",
    "\n",
    "Using the current value of only the stock and bond portion of the member's portfolio and the summary statistics that you generated from the Monte Carlo simulation, answer the following question in your Jupyter notebook:\n",
    "\n",
    "-  What are the lower and upper bounds for the expected value of the portfolio with a 95% confidence interval?\n"
   ]
  },
  {
   "cell_type": "code",
   "execution_count": 53,
   "metadata": {},
   "outputs": [
    {
     "name": "stdout",
     "output_type": "stream",
     "text": [
      "60689.5\n"
     ]
    }
   ],
   "source": [
    "# Print the current balance of the stock and bond portion of the members portfolio\n",
    "print(total_stocks_bonds)\n"
   ]
  },
  {
   "cell_type": "code",
   "execution_count": 63,
   "metadata": {},
   "outputs": [
    {
     "name": "stdout",
     "output_type": "stream",
     "text": [
      "There is a 95% chance that an initial investment of $ 60689.50 in the portfolio with a 60% weight in SPY over the next 30 years will end within in the range of $263646.74 and $2395165.78.\n"
     ]
    }
   ],
   "source": [
    "# Use the lower and upper `95%` confidence intervals to calculate the range of the possible outcomes for the current stock/bond portfolio\n",
    "ci_lower_thirty_cumulative_return = round(summary_table[8]*total_stocks_bonds,2)\n",
    "ci_upper_thirty_cumulative_return = round(summary_table[9]*total_stocks_bonds,2)\n",
    "\n",
    "# Print the result of your calculations\n",
    "print(f\"There is a 95% chance that an initial investment of ${total_stocks_bonds: .2f} in the portfolio\"\n",
    "      f\" with a 60% weight in SPY over the next 30 years will end within in the range of\"\n",
    "      f\" ${ci_lower_thirty_cumulative_return} and ${ci_upper_thirty_cumulative_return}.\")\n"
   ]
  },
  {
   "cell_type": "markdown",
   "metadata": {},
   "source": [
    "### Forecast Cumulative Returns in 10 Years\n",
    "\n",
    "The CTO of the credit union is impressed with your work on these planning tools but wonders if 30 years is a long time to wait until retirement. So, your next task is to adjust the retirement portfolio and run a new Monte Carlo simulation to find out if the changes will allow members to retire earlier.\n",
    "\n",
    "For this new Monte Carlo simulation, do the following: \n",
    "\n",
    "- Forecast the cumulative returns for 10 years from now. Because of the shortened investment horizon (30 years to 10 years), the portfolio needs to invest more heavily in the riskier asset&mdash;that is, stock&mdash;to help accumulate wealth for retirement. \n",
    "\n",
    "- Adjust the weights of the retirement portfolio so that the composition for the Monte Carlo simulation consists of 20% bonds and 80% stocks. \n",
    "\n",
    "- Run the simulation over 500 samples, and use the same data that the API call to Alpaca generated.\n",
    "\n",
    "- Based on the new Monte Carlo simulation, answer the following questions in your Jupyter notebook:\n",
    "\n",
    "    - Using the current value of only the stock and bond portion of the member's portfolio and the summary statistics that you generated from the new Monte Carlo simulation, what are the lower and upper bounds for the expected value of the portfolio (with the new weights) with a 95% confidence interval?\n",
    "\n",
    "    - Will weighting the portfolio more heavily toward stocks allow the credit union members to retire after only 10 years?\n"
   ]
  },
  {
   "cell_type": "code",
   "execution_count": 55,
   "metadata": {},
   "outputs": [
    {
     "data": {
      "text/html": [
       "<div>\n",
       "<style scoped>\n",
       "    .dataframe tbody tr th:only-of-type {\n",
       "        vertical-align: middle;\n",
       "    }\n",
       "\n",
       "    .dataframe tbody tr th {\n",
       "        vertical-align: top;\n",
       "    }\n",
       "\n",
       "    .dataframe thead tr th {\n",
       "        text-align: left;\n",
       "    }\n",
       "\n",
       "    .dataframe thead tr:last-of-type th {\n",
       "        text-align: right;\n",
       "    }\n",
       "</style>\n",
       "<table border=\"1\" class=\"dataframe\">\n",
       "  <thead>\n",
       "    <tr>\n",
       "      <th></th>\n",
       "      <th colspan=\"6\" halign=\"left\">AGG</th>\n",
       "      <th colspan=\"6\" halign=\"left\">SPY</th>\n",
       "    </tr>\n",
       "    <tr>\n",
       "      <th></th>\n",
       "      <th>open</th>\n",
       "      <th>high</th>\n",
       "      <th>low</th>\n",
       "      <th>close</th>\n",
       "      <th>volume</th>\n",
       "      <th>daily_return</th>\n",
       "      <th>open</th>\n",
       "      <th>high</th>\n",
       "      <th>low</th>\n",
       "      <th>close</th>\n",
       "      <th>volume</th>\n",
       "      <th>daily_return</th>\n",
       "    </tr>\n",
       "    <tr>\n",
       "      <th>time</th>\n",
       "      <th></th>\n",
       "      <th></th>\n",
       "      <th></th>\n",
       "      <th></th>\n",
       "      <th></th>\n",
       "      <th></th>\n",
       "      <th></th>\n",
       "      <th></th>\n",
       "      <th></th>\n",
       "      <th></th>\n",
       "      <th></th>\n",
       "      <th></th>\n",
       "    </tr>\n",
       "  </thead>\n",
       "  <tbody>\n",
       "    <tr>\n",
       "      <th>2019-01-24 00:00:00-05:00</th>\n",
       "      <td>106.72</td>\n",
       "      <td>106.840</td>\n",
       "      <td>106.670</td>\n",
       "      <td>106.7300</td>\n",
       "      <td>6586980</td>\n",
       "      <td>NaN</td>\n",
       "      <td>263.21</td>\n",
       "      <td>264.20</td>\n",
       "      <td>262.0800</td>\n",
       "      <td>263.6900</td>\n",
       "      <td>48407752</td>\n",
       "      <td>NaN</td>\n",
       "    </tr>\n",
       "    <tr>\n",
       "      <th>2019-01-25 00:00:00-05:00</th>\n",
       "      <td>106.64</td>\n",
       "      <td>106.700</td>\n",
       "      <td>106.560</td>\n",
       "      <td>106.6750</td>\n",
       "      <td>3157633</td>\n",
       "      <td>-0.000515</td>\n",
       "      <td>265.61</td>\n",
       "      <td>266.70</td>\n",
       "      <td>263.6595</td>\n",
       "      <td>265.7000</td>\n",
       "      <td>78094541</td>\n",
       "      <td>0.007623</td>\n",
       "    </tr>\n",
       "    <tr>\n",
       "      <th>2019-01-28 00:00:00-05:00</th>\n",
       "      <td>106.62</td>\n",
       "      <td>106.745</td>\n",
       "      <td>106.580</td>\n",
       "      <td>106.6550</td>\n",
       "      <td>6372589</td>\n",
       "      <td>-0.000187</td>\n",
       "      <td>263.39</td>\n",
       "      <td>263.82</td>\n",
       "      <td>261.7900</td>\n",
       "      <td>263.6350</td>\n",
       "      <td>75207990</td>\n",
       "      <td>-0.007772</td>\n",
       "    </tr>\n",
       "    <tr>\n",
       "      <th>2019-01-29 00:00:00-05:00</th>\n",
       "      <td>106.73</td>\n",
       "      <td>106.910</td>\n",
       "      <td>106.685</td>\n",
       "      <td>106.9063</td>\n",
       "      <td>5399892</td>\n",
       "      <td>0.002356</td>\n",
       "      <td>263.92</td>\n",
       "      <td>264.55</td>\n",
       "      <td>262.4800</td>\n",
       "      <td>263.3100</td>\n",
       "      <td>54249161</td>\n",
       "      <td>-0.001233</td>\n",
       "    </tr>\n",
       "    <tr>\n",
       "      <th>2019-01-30 00:00:00-05:00</th>\n",
       "      <td>106.79</td>\n",
       "      <td>107.140</td>\n",
       "      <td>106.790</td>\n",
       "      <td>107.1400</td>\n",
       "      <td>4948983</td>\n",
       "      <td>0.002186</td>\n",
       "      <td>265.10</td>\n",
       "      <td>268.52</td>\n",
       "      <td>264.2500</td>\n",
       "      <td>267.4625</td>\n",
       "      <td>75091893</td>\n",
       "      <td>0.015770</td>\n",
       "    </tr>\n",
       "  </tbody>\n",
       "</table>\n",
       "</div>"
      ],
      "text/plain": [
       "                              AGG                                       \\\n",
       "                             open     high      low     close   volume   \n",
       "time                                                                     \n",
       "2019-01-24 00:00:00-05:00  106.72  106.840  106.670  106.7300  6586980   \n",
       "2019-01-25 00:00:00-05:00  106.64  106.700  106.560  106.6750  3157633   \n",
       "2019-01-28 00:00:00-05:00  106.62  106.745  106.580  106.6550  6372589   \n",
       "2019-01-29 00:00:00-05:00  106.73  106.910  106.685  106.9063  5399892   \n",
       "2019-01-30 00:00:00-05:00  106.79  107.140  106.790  107.1400  4948983   \n",
       "\n",
       "                                           SPY                              \\\n",
       "                          daily_return    open    high       low     close   \n",
       "time                                                                         \n",
       "2019-01-24 00:00:00-05:00          NaN  263.21  264.20  262.0800  263.6900   \n",
       "2019-01-25 00:00:00-05:00    -0.000515  265.61  266.70  263.6595  265.7000   \n",
       "2019-01-28 00:00:00-05:00    -0.000187  263.39  263.82  261.7900  263.6350   \n",
       "2019-01-29 00:00:00-05:00     0.002356  263.92  264.55  262.4800  263.3100   \n",
       "2019-01-30 00:00:00-05:00     0.002186  265.10  268.52  264.2500  267.4625   \n",
       "\n",
       "                                                  \n",
       "                             volume daily_return  \n",
       "time                                              \n",
       "2019-01-24 00:00:00-05:00  48407752          NaN  \n",
       "2019-01-25 00:00:00-05:00  78094541     0.007623  \n",
       "2019-01-28 00:00:00-05:00  75207990    -0.007772  \n",
       "2019-01-29 00:00:00-05:00  54249161    -0.001233  \n",
       "2019-01-30 00:00:00-05:00  75091893     0.015770  "
      ]
     },
     "execution_count": 55,
     "metadata": {},
     "output_type": "execute_result"
    }
   ],
   "source": [
    "# Configure a Monte Carlo simulation to forecast 10 years cumulative returns\n",
    "# The weights should be split 20% to AGG and 80% to SPY.\n",
    "# Run 500 samples.\n",
    "MC_spy_agg_10_years = MCSimulation(\n",
    "    portfolio_data = prices_df,\n",
    "    weights = [.80,.20],\n",
    "    num_simulation = 500,\n",
    "    num_trading_days = 252*10\n",
    ")\n",
    "\n",
    "\n",
    "# Review the simulation input data\n",
    "MC_spy_agg_10_years.portfolio_data.head()\n"
   ]
  },
  {
   "cell_type": "code",
   "execution_count": 56,
   "metadata": {},
   "outputs": [
    {
     "name": "stdout",
     "output_type": "stream",
     "text": [
      "Running Monte Carlo simulation number 0.\n",
      "Running Monte Carlo simulation number 10.\n",
      "Running Monte Carlo simulation number 20.\n",
      "Running Monte Carlo simulation number 30.\n",
      "Running Monte Carlo simulation number 40.\n",
      "Running Monte Carlo simulation number 50.\n",
      "Running Monte Carlo simulation number 60.\n",
      "Running Monte Carlo simulation number 70.\n",
      "Running Monte Carlo simulation number 80.\n",
      "Running Monte Carlo simulation number 90.\n",
      "Running Monte Carlo simulation number 100.\n"
     ]
    },
    {
     "name": "stderr",
     "output_type": "stream",
     "text": [
      "C:\\Users\\locth\\OneDrive\\Documents\\Python\\Module_5\\Starter_Code\\MCForecastTools.py:117: PerformanceWarning: DataFrame is highly fragmented.  This is usually the result of calling `frame.insert` many times, which has poor performance.  Consider joining all columns at once using pd.concat(axis=1) instead.  To get a de-fragmented frame, use `newframe = frame.copy()`\n",
      "  portfolio_cumulative_returns[n] = (1 + sim_df.fillna(0)).cumprod()\n"
     ]
    },
    {
     "name": "stdout",
     "output_type": "stream",
     "text": [
      "Running Monte Carlo simulation number 110.\n",
      "Running Monte Carlo simulation number 120.\n",
      "Running Monte Carlo simulation number 130.\n",
      "Running Monte Carlo simulation number 140.\n",
      "Running Monte Carlo simulation number 150.\n",
      "Running Monte Carlo simulation number 160.\n",
      "Running Monte Carlo simulation number 170.\n",
      "Running Monte Carlo simulation number 180.\n",
      "Running Monte Carlo simulation number 190.\n",
      "Running Monte Carlo simulation number 200.\n",
      "Running Monte Carlo simulation number 210.\n",
      "Running Monte Carlo simulation number 220.\n",
      "Running Monte Carlo simulation number 230.\n",
      "Running Monte Carlo simulation number 240.\n",
      "Running Monte Carlo simulation number 250.\n",
      "Running Monte Carlo simulation number 260.\n",
      "Running Monte Carlo simulation number 270.\n",
      "Running Monte Carlo simulation number 280.\n",
      "Running Monte Carlo simulation number 290.\n",
      "Running Monte Carlo simulation number 300.\n",
      "Running Monte Carlo simulation number 310.\n",
      "Running Monte Carlo simulation number 320.\n",
      "Running Monte Carlo simulation number 330.\n",
      "Running Monte Carlo simulation number 340.\n",
      "Running Monte Carlo simulation number 350.\n",
      "Running Monte Carlo simulation number 360.\n",
      "Running Monte Carlo simulation number 370.\n",
      "Running Monte Carlo simulation number 380.\n",
      "Running Monte Carlo simulation number 390.\n",
      "Running Monte Carlo simulation number 400.\n",
      "Running Monte Carlo simulation number 410.\n",
      "Running Monte Carlo simulation number 420.\n",
      "Running Monte Carlo simulation number 430.\n",
      "Running Monte Carlo simulation number 440.\n",
      "Running Monte Carlo simulation number 450.\n",
      "Running Monte Carlo simulation number 460.\n",
      "Running Monte Carlo simulation number 470.\n",
      "Running Monte Carlo simulation number 480.\n",
      "Running Monte Carlo simulation number 490.\n"
     ]
    },
    {
     "data": {
      "text/html": [
       "<div>\n",
       "<style scoped>\n",
       "    .dataframe tbody tr th:only-of-type {\n",
       "        vertical-align: middle;\n",
       "    }\n",
       "\n",
       "    .dataframe tbody tr th {\n",
       "        vertical-align: top;\n",
       "    }\n",
       "\n",
       "    .dataframe thead th {\n",
       "        text-align: right;\n",
       "    }\n",
       "</style>\n",
       "<table border=\"1\" class=\"dataframe\">\n",
       "  <thead>\n",
       "    <tr style=\"text-align: right;\">\n",
       "      <th></th>\n",
       "      <th>0</th>\n",
       "      <th>1</th>\n",
       "      <th>2</th>\n",
       "      <th>3</th>\n",
       "      <th>4</th>\n",
       "      <th>5</th>\n",
       "      <th>6</th>\n",
       "      <th>7</th>\n",
       "      <th>8</th>\n",
       "      <th>9</th>\n",
       "      <th>...</th>\n",
       "      <th>490</th>\n",
       "      <th>491</th>\n",
       "      <th>492</th>\n",
       "      <th>493</th>\n",
       "      <th>494</th>\n",
       "      <th>495</th>\n",
       "      <th>496</th>\n",
       "      <th>497</th>\n",
       "      <th>498</th>\n",
       "      <th>499</th>\n",
       "    </tr>\n",
       "  </thead>\n",
       "  <tbody>\n",
       "    <tr>\n",
       "      <th>0</th>\n",
       "      <td>1.000000</td>\n",
       "      <td>1.000000</td>\n",
       "      <td>1.000000</td>\n",
       "      <td>1.000000</td>\n",
       "      <td>1.000000</td>\n",
       "      <td>1.000000</td>\n",
       "      <td>1.000000</td>\n",
       "      <td>1.000000</td>\n",
       "      <td>1.000000</td>\n",
       "      <td>1.000000</td>\n",
       "      <td>...</td>\n",
       "      <td>1.000000</td>\n",
       "      <td>1.000000</td>\n",
       "      <td>1.000000</td>\n",
       "      <td>1.000000</td>\n",
       "      <td>1.000000</td>\n",
       "      <td>1.000000</td>\n",
       "      <td>1.000000</td>\n",
       "      <td>1.000000</td>\n",
       "      <td>1.000000</td>\n",
       "      <td>1.000000</td>\n",
       "    </tr>\n",
       "    <tr>\n",
       "      <th>1</th>\n",
       "      <td>1.003886</td>\n",
       "      <td>1.002635</td>\n",
       "      <td>1.004396</td>\n",
       "      <td>1.002250</td>\n",
       "      <td>0.998052</td>\n",
       "      <td>0.998891</td>\n",
       "      <td>0.995134</td>\n",
       "      <td>1.001114</td>\n",
       "      <td>1.002111</td>\n",
       "      <td>1.003928</td>\n",
       "      <td>...</td>\n",
       "      <td>0.997571</td>\n",
       "      <td>1.003595</td>\n",
       "      <td>0.998271</td>\n",
       "      <td>0.997215</td>\n",
       "      <td>0.999420</td>\n",
       "      <td>1.001085</td>\n",
       "      <td>0.999256</td>\n",
       "      <td>0.995447</td>\n",
       "      <td>1.000452</td>\n",
       "      <td>1.002845</td>\n",
       "    </tr>\n",
       "    <tr>\n",
       "      <th>2</th>\n",
       "      <td>1.008226</td>\n",
       "      <td>1.008943</td>\n",
       "      <td>1.007023</td>\n",
       "      <td>1.001053</td>\n",
       "      <td>0.998705</td>\n",
       "      <td>1.001340</td>\n",
       "      <td>0.994067</td>\n",
       "      <td>1.001256</td>\n",
       "      <td>0.999396</td>\n",
       "      <td>1.004551</td>\n",
       "      <td>...</td>\n",
       "      <td>0.994151</td>\n",
       "      <td>0.999666</td>\n",
       "      <td>0.999640</td>\n",
       "      <td>0.992124</td>\n",
       "      <td>0.998155</td>\n",
       "      <td>1.009206</td>\n",
       "      <td>0.998911</td>\n",
       "      <td>0.998295</td>\n",
       "      <td>1.001570</td>\n",
       "      <td>1.004452</td>\n",
       "    </tr>\n",
       "    <tr>\n",
       "      <th>3</th>\n",
       "      <td>1.009285</td>\n",
       "      <td>1.005681</td>\n",
       "      <td>1.002668</td>\n",
       "      <td>1.000645</td>\n",
       "      <td>1.000669</td>\n",
       "      <td>0.995017</td>\n",
       "      <td>0.991050</td>\n",
       "      <td>0.996837</td>\n",
       "      <td>1.000968</td>\n",
       "      <td>1.002994</td>\n",
       "      <td>...</td>\n",
       "      <td>0.992868</td>\n",
       "      <td>1.003497</td>\n",
       "      <td>1.008320</td>\n",
       "      <td>0.993608</td>\n",
       "      <td>0.998009</td>\n",
       "      <td>1.015964</td>\n",
       "      <td>0.998055</td>\n",
       "      <td>0.995837</td>\n",
       "      <td>1.002954</td>\n",
       "      <td>1.004788</td>\n",
       "    </tr>\n",
       "    <tr>\n",
       "      <th>4</th>\n",
       "      <td>1.005486</td>\n",
       "      <td>1.006449</td>\n",
       "      <td>0.995883</td>\n",
       "      <td>0.999447</td>\n",
       "      <td>0.998836</td>\n",
       "      <td>1.000402</td>\n",
       "      <td>0.997335</td>\n",
       "      <td>0.995969</td>\n",
       "      <td>1.007841</td>\n",
       "      <td>1.001921</td>\n",
       "      <td>...</td>\n",
       "      <td>0.990540</td>\n",
       "      <td>0.997280</td>\n",
       "      <td>1.009426</td>\n",
       "      <td>1.000551</td>\n",
       "      <td>0.994544</td>\n",
       "      <td>1.014611</td>\n",
       "      <td>0.995366</td>\n",
       "      <td>0.994868</td>\n",
       "      <td>0.997305</td>\n",
       "      <td>1.009863</td>\n",
       "    </tr>\n",
       "    <tr>\n",
       "      <th>...</th>\n",
       "      <td>...</td>\n",
       "      <td>...</td>\n",
       "      <td>...</td>\n",
       "      <td>...</td>\n",
       "      <td>...</td>\n",
       "      <td>...</td>\n",
       "      <td>...</td>\n",
       "      <td>...</td>\n",
       "      <td>...</td>\n",
       "      <td>...</td>\n",
       "      <td>...</td>\n",
       "      <td>...</td>\n",
       "      <td>...</td>\n",
       "      <td>...</td>\n",
       "      <td>...</td>\n",
       "      <td>...</td>\n",
       "      <td>...</td>\n",
       "      <td>...</td>\n",
       "      <td>...</td>\n",
       "      <td>...</td>\n",
       "      <td>...</td>\n",
       "    </tr>\n",
       "    <tr>\n",
       "      <th>2516</th>\n",
       "      <td>2.425624</td>\n",
       "      <td>1.416486</td>\n",
       "      <td>1.890972</td>\n",
       "      <td>1.405188</td>\n",
       "      <td>1.559080</td>\n",
       "      <td>1.311568</td>\n",
       "      <td>1.525778</td>\n",
       "      <td>1.229064</td>\n",
       "      <td>2.216618</td>\n",
       "      <td>1.644466</td>\n",
       "      <td>...</td>\n",
       "      <td>1.444238</td>\n",
       "      <td>1.104530</td>\n",
       "      <td>1.733200</td>\n",
       "      <td>2.078601</td>\n",
       "      <td>1.859773</td>\n",
       "      <td>1.548574</td>\n",
       "      <td>1.316202</td>\n",
       "      <td>1.970635</td>\n",
       "      <td>2.164144</td>\n",
       "      <td>1.805130</td>\n",
       "    </tr>\n",
       "    <tr>\n",
       "      <th>2517</th>\n",
       "      <td>2.436835</td>\n",
       "      <td>1.414780</td>\n",
       "      <td>1.890151</td>\n",
       "      <td>1.404302</td>\n",
       "      <td>1.557728</td>\n",
       "      <td>1.306052</td>\n",
       "      <td>1.531203</td>\n",
       "      <td>1.223666</td>\n",
       "      <td>2.200250</td>\n",
       "      <td>1.641739</td>\n",
       "      <td>...</td>\n",
       "      <td>1.448266</td>\n",
       "      <td>1.099313</td>\n",
       "      <td>1.732147</td>\n",
       "      <td>2.083805</td>\n",
       "      <td>1.855229</td>\n",
       "      <td>1.542918</td>\n",
       "      <td>1.324762</td>\n",
       "      <td>1.980897</td>\n",
       "      <td>2.162771</td>\n",
       "      <td>1.811127</td>\n",
       "    </tr>\n",
       "    <tr>\n",
       "      <th>2518</th>\n",
       "      <td>2.434602</td>\n",
       "      <td>1.420680</td>\n",
       "      <td>1.905782</td>\n",
       "      <td>1.400369</td>\n",
       "      <td>1.562475</td>\n",
       "      <td>1.309029</td>\n",
       "      <td>1.539386</td>\n",
       "      <td>1.228949</td>\n",
       "      <td>2.204209</td>\n",
       "      <td>1.626352</td>\n",
       "      <td>...</td>\n",
       "      <td>1.444918</td>\n",
       "      <td>1.093863</td>\n",
       "      <td>1.720848</td>\n",
       "      <td>2.086625</td>\n",
       "      <td>1.857274</td>\n",
       "      <td>1.542514</td>\n",
       "      <td>1.318736</td>\n",
       "      <td>1.972877</td>\n",
       "      <td>2.145766</td>\n",
       "      <td>1.820671</td>\n",
       "    </tr>\n",
       "    <tr>\n",
       "      <th>2519</th>\n",
       "      <td>2.447587</td>\n",
       "      <td>1.423980</td>\n",
       "      <td>1.906028</td>\n",
       "      <td>1.398853</td>\n",
       "      <td>1.564152</td>\n",
       "      <td>1.309279</td>\n",
       "      <td>1.543728</td>\n",
       "      <td>1.229330</td>\n",
       "      <td>2.193929</td>\n",
       "      <td>1.629494</td>\n",
       "      <td>...</td>\n",
       "      <td>1.436535</td>\n",
       "      <td>1.100608</td>\n",
       "      <td>1.718199</td>\n",
       "      <td>2.091731</td>\n",
       "      <td>1.859028</td>\n",
       "      <td>1.533546</td>\n",
       "      <td>1.327587</td>\n",
       "      <td>1.972691</td>\n",
       "      <td>2.146834</td>\n",
       "      <td>1.821816</td>\n",
       "    </tr>\n",
       "    <tr>\n",
       "      <th>2520</th>\n",
       "      <td>2.447878</td>\n",
       "      <td>1.430782</td>\n",
       "      <td>1.903999</td>\n",
       "      <td>1.390543</td>\n",
       "      <td>1.560927</td>\n",
       "      <td>1.302872</td>\n",
       "      <td>1.548987</td>\n",
       "      <td>1.229068</td>\n",
       "      <td>2.194759</td>\n",
       "      <td>1.628614</td>\n",
       "      <td>...</td>\n",
       "      <td>1.439729</td>\n",
       "      <td>1.095551</td>\n",
       "      <td>1.721325</td>\n",
       "      <td>2.104068</td>\n",
       "      <td>1.841451</td>\n",
       "      <td>1.538194</td>\n",
       "      <td>1.330432</td>\n",
       "      <td>1.980792</td>\n",
       "      <td>2.147377</td>\n",
       "      <td>1.822419</td>\n",
       "    </tr>\n",
       "  </tbody>\n",
       "</table>\n",
       "<p>2521 rows × 500 columns</p>\n",
       "</div>"
      ],
      "text/plain": [
       "           0         1         2         3         4         5         6    \\\n",
       "0     1.000000  1.000000  1.000000  1.000000  1.000000  1.000000  1.000000   \n",
       "1     1.003886  1.002635  1.004396  1.002250  0.998052  0.998891  0.995134   \n",
       "2     1.008226  1.008943  1.007023  1.001053  0.998705  1.001340  0.994067   \n",
       "3     1.009285  1.005681  1.002668  1.000645  1.000669  0.995017  0.991050   \n",
       "4     1.005486  1.006449  0.995883  0.999447  0.998836  1.000402  0.997335   \n",
       "...        ...       ...       ...       ...       ...       ...       ...   \n",
       "2516  2.425624  1.416486  1.890972  1.405188  1.559080  1.311568  1.525778   \n",
       "2517  2.436835  1.414780  1.890151  1.404302  1.557728  1.306052  1.531203   \n",
       "2518  2.434602  1.420680  1.905782  1.400369  1.562475  1.309029  1.539386   \n",
       "2519  2.447587  1.423980  1.906028  1.398853  1.564152  1.309279  1.543728   \n",
       "2520  2.447878  1.430782  1.903999  1.390543  1.560927  1.302872  1.548987   \n",
       "\n",
       "           7         8         9    ...       490       491       492  \\\n",
       "0     1.000000  1.000000  1.000000  ...  1.000000  1.000000  1.000000   \n",
       "1     1.001114  1.002111  1.003928  ...  0.997571  1.003595  0.998271   \n",
       "2     1.001256  0.999396  1.004551  ...  0.994151  0.999666  0.999640   \n",
       "3     0.996837  1.000968  1.002994  ...  0.992868  1.003497  1.008320   \n",
       "4     0.995969  1.007841  1.001921  ...  0.990540  0.997280  1.009426   \n",
       "...        ...       ...       ...  ...       ...       ...       ...   \n",
       "2516  1.229064  2.216618  1.644466  ...  1.444238  1.104530  1.733200   \n",
       "2517  1.223666  2.200250  1.641739  ...  1.448266  1.099313  1.732147   \n",
       "2518  1.228949  2.204209  1.626352  ...  1.444918  1.093863  1.720848   \n",
       "2519  1.229330  2.193929  1.629494  ...  1.436535  1.100608  1.718199   \n",
       "2520  1.229068  2.194759  1.628614  ...  1.439729  1.095551  1.721325   \n",
       "\n",
       "           493       494       495       496       497       498       499  \n",
       "0     1.000000  1.000000  1.000000  1.000000  1.000000  1.000000  1.000000  \n",
       "1     0.997215  0.999420  1.001085  0.999256  0.995447  1.000452  1.002845  \n",
       "2     0.992124  0.998155  1.009206  0.998911  0.998295  1.001570  1.004452  \n",
       "3     0.993608  0.998009  1.015964  0.998055  0.995837  1.002954  1.004788  \n",
       "4     1.000551  0.994544  1.014611  0.995366  0.994868  0.997305  1.009863  \n",
       "...        ...       ...       ...       ...       ...       ...       ...  \n",
       "2516  2.078601  1.859773  1.548574  1.316202  1.970635  2.164144  1.805130  \n",
       "2517  2.083805  1.855229  1.542918  1.324762  1.980897  2.162771  1.811127  \n",
       "2518  2.086625  1.857274  1.542514  1.318736  1.972877  2.145766  1.820671  \n",
       "2519  2.091731  1.859028  1.533546  1.327587  1.972691  2.146834  1.821816  \n",
       "2520  2.104068  1.841451  1.538194  1.330432  1.980792  2.147377  1.822419  \n",
       "\n",
       "[2521 rows x 500 columns]"
      ]
     },
     "execution_count": 56,
     "metadata": {},
     "output_type": "execute_result"
    }
   ],
   "source": [
    "# Run the Monte Carlo simulation to forecast 10 years cumulative returns\n",
    "MC_spy_agg_10_years.calc_cumulative_return()\n"
   ]
  },
  {
   "cell_type": "code",
   "execution_count": 57,
   "metadata": {},
   "outputs": [
    {
     "data": {
      "image/png": "[encoded data removed]",
      "text/plain": [
       "<Figure size 432x288 with 1 Axes>"
      ]
     },
     "metadata": {
      "needs_background": "light"
     },
     "output_type": "display_data"
    }
   ],
   "source": [
    "# Visualize the 10-year Monte Carlo simulation by creating an\n",
    "# overlay line plot\n",
    "line_plot_10_years = MC_spy_agg_10_years.plot_simulation()\n"
   ]
  },
  {
   "cell_type": "code",
   "execution_count": 58,
   "metadata": {},
   "outputs": [
    {
     "data": {
      "image/png": "[encoded data removed]",
      "text/plain": [
       "<Figure size 432x288 with 1 Axes>"
      ]
     },
     "metadata": {
      "needs_background": "light"
     },
     "output_type": "display_data"
    }
   ],
   "source": [
    "# Visualize the probability distribution of the 10-year Monte Carlo simulation \n",
    "# by plotting a histogram\n",
    "probability_dist_10_years = MC_spy_agg_10_years.plot_distribution()\n"
   ]
  },
  {
   "cell_type": "code",
   "execution_count": 59,
   "metadata": {},
   "outputs": [
    {
     "name": "stdout",
     "output_type": "stream",
     "text": [
      "count           500.000000\n",
      "mean              1.727089\n",
      "std               0.341721\n",
      "min               0.962338\n",
      "25%               1.485467\n",
      "50%               1.707140\n",
      "75%               1.940909\n",
      "max               3.125941\n",
      "95% CI Lower      1.166887\n",
      "95% CI Upper      2.446100\n",
      "Name: 2520, dtype: float64\n"
     ]
    }
   ],
   "source": [
    "# Generate summary statistics from the 10-year Monte Carlo simulation results\n",
    "# Save the results as a variable\n",
    "summary_table_10_years = MC_spy_agg_10_years.summarize_cumulative_return()\n",
    "\n",
    "\n",
    "# Review the 10-year Monte Carlo summary statistics\n",
    "print(summary_table_10_years)"
   ]
  },
  {
   "cell_type": "markdown",
   "metadata": {},
   "source": [
    "### Answer the following questions:"
   ]
  },
  {
   "cell_type": "markdown",
   "metadata": {},
   "source": [
    "#### Question: Using the current value of only the stock and bond portion of the member's portfolio and the summary statistics that you generated from the new Monte Carlo simulation, what are the lower and upper bounds for the expected value of the portfolio (with the new weights) with a 95% confidence interval?"
   ]
  },
  {
   "cell_type": "code",
   "execution_count": 60,
   "metadata": {},
   "outputs": [
    {
     "name": "stdout",
     "output_type": "stream",
     "text": [
      "60689.5\n"
     ]
    }
   ],
   "source": [
    "# Print the current balance of the stock and bond portion of the members portfolio\n",
    "print(total_stocks_bonds)\n"
   ]
  },
  {
   "cell_type": "code",
   "execution_count": 62,
   "metadata": {},
   "outputs": [
    {
     "name": "stdout",
     "output_type": "stream",
     "text": [
      "There is a 95% chance that an initial investment of $ 60689.50 in the portfolio with a 60% weight in SPY over the next 10 years will end within in the range of $70817.78 and $148452.58.\n"
     ]
    }
   ],
   "source": [
    "# Use the lower and upper `95%` confidence intervals to calculate the range of the possible outcomes for the current stock/bond portfolio\n",
    "ci_lower_ten_cumulative_return = round(summary_table_10_years[8]*total_stocks_bonds,2)\n",
    "ci_upper_ten_cumulative_return = round(summary_table_10_years[9]*total_stocks_bonds,2)\n",
    "\n",
    "# Print the result of your calculations\n",
    "print(f\"There is a 95% chance that an initial investment of ${total_stocks_bonds: .2f} in the portfolio\"\n",
    "      f\" with a 60% weight in SPY over the next 10 years will end within in the range of\"\n",
    "      f\" ${ci_lower_ten_cumulative_return} and ${ci_upper_ten_cumulative_return}.\")"
   ]
  },
  {
   "cell_type": "markdown",
   "metadata": {},
   "source": [
    "#### Question: Will weighting the portfolio more heavily to stocks allow the credit union members to retire after only 10 years?"
   ]
  },
  {
   "cell_type": "raw",
   "metadata": {},
   "source": [
    "**Answer** No. Weighting the portfolio more heavily to stocks will not allow the credit union members to retire after 10 years. "
   ]
  },
  {
   "cell_type": "code",
   "execution_count": null,
   "metadata": {},
   "outputs": [],
   "source": []
  }
 ],
 "metadata": {
  "kernelspec": {
   "display_name": "dev",
   "language": "python",
   "name": "dev"
  },
  "language_info": {
   "codemirror_mode": {
    "name": "ipython",
    "version": 3
   },
   "file_extension": ".py",
   "mimetype": "text/x-python",
   "name": "python",
   "nbconvert_exporter": "python",
   "pygments_lexer": "ipython3",
   "version": "3.9.7"
  }
 },
 "nbformat": 4,
 "nbformat_minor": 4
}
